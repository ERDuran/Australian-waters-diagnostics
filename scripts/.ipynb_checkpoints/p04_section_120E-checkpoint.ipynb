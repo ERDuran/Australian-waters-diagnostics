{
 "cells": [
  {
   "cell_type": "code",
   "execution_count": 1,
   "metadata": {},
   "outputs": [
    {
     "name": "stdout",
     "output_type": "stream",
     "text": [
      "Populating the interactive namespace from numpy and matplotlib\n",
      "netcdf_index loaded.\n",
      "Available exptdata keys:  ['1deg', '025deg', '01deg']\n",
      "/bin/sh: module: line 1: syntax error: unexpected end of file\n",
      "/bin/sh: error importing function definition for `BASH_FUNC_module'\n",
      "/home/561/erd561/ACCESS-OM2-1-025-010deg-report/figures/Australia\n"
     ]
    }
   ],
   "source": [
    "%pylab inline\n",
    "\n",
    "import cosima_cookbook as cc\n",
    "import matplotlib.pyplot as plt # to generate plots\n",
    "import xarray as xr\n",
    "import pandas as pd\n",
    "import scipy.interpolate\n",
    "import scipy.ndimage\n",
    "from scipy import stats\n",
    "from tqdm import tqdm_notebook\n",
    "import IPython.display\n",
    "import cmocean as cm\n",
    "from scipy.io import loadmat\n",
    "from dask.distributed import Client\n",
    "import cartopy.crs as ccrs\n",
    "import cartopy.feature as cft\n",
    "import matplotlib.ticker as mticker\n",
    "from glob import glob as gb\n",
    "import sys, os\n",
    "sys.path.append(os.path.join(os.getcwd(), '..'))  # so we can import ../exptdata\n",
    "import exptdata\n",
    "print('Available exptdata keys: ', [k for k in exptdata.exptdict.keys()])\n",
    "\n",
    "from mpl_toolkits.axes_grid1.axes_divider import make_axes_locatable\n",
    "def arange(start,end,stride=1):\n",
    "    return np.arange(start,end+0.00000001,stride)\n",
    "!pwd"
   ]
  },
  {
   "cell_type": "code",
   "execution_count": 2,
   "metadata": {},
   "outputs": [
    {
     "data": {
      "application/javascript": [
       "IPython.notebook.kernel.execute('nb_name = ' + '\"' + IPython.notebook.notebook_name + '\"')\n"
      ],
      "text/plain": [
       "<IPython.core.display.Javascript object>"
      ]
     },
     "metadata": {},
     "output_type": "display_data"
    }
   ],
   "source": [
    "%%javascript\n",
    "IPython.notebook.kernel.execute('nb_name = ' + '\"' + IPython.notebook.notebook_name + '\"')"
   ]
  },
  {
   "cell_type": "code",
   "execution_count": 30,
   "metadata": {},
   "outputs": [
    {
     "name": "stdout",
     "output_type": "stream",
     "text": [
      "1993-2017\n",
      "tstart =  1993-01-01 00:00:00\n",
      "tend =  2018-01-01 00:00:00\n"
     ]
    }
   ],
   "source": [
    "# use common start and end dates for all runs\n",
    "tstart = exptdata.clim_tstart\n",
    "tend = exptdata.clim_tend\n",
    "\n",
    "firstyear = pd.to_datetime(tstart).year  # assumes tstart is 1 January!\n",
    "lastyear = pd.to_datetime(tend).year-1  # assumes tend is 1 January!\n",
    "yearrange = str(firstyear)+'-'+str(lastyear)\n",
    "print(yearrange)\n",
    "print('tstart = ', tstart)\n",
    "print('tend = ', tend)\n",
    "\n",
    "output_dir = '/home/561/erd561/figures/Australia/'\n",
    "fig_name = nb_name[:-6]\n",
    "fig_dir = output_dir + fig_name\n",
    "\n",
    "output_ls = os.listdir(output_dir)\n",
    "if fig_name not in output_ls:\n",
    "    os.mkdir(fig_dir)\n",
    "    \n",
    "NOSYNC = 'NOSYNC/' # where to save figs we don't want to sync\n",
    "\n",
    "years = list(range(1993, 2018))"
   ]
  },
  {
   "cell_type": "code",
   "execution_count": 5,
   "metadata": {},
   "outputs": [
    {
     "name": "stdout",
     "output_type": "stream",
     "text": [
      "<Client: scheduler='tcp://127.0.0.1:46206' processes=8 cores=8>\n",
      "CPU times: user 758 ms, sys: 189 ms, total: 947 ms\n",
      "Wall time: 3.34 s\n"
     ]
    }
   ],
   "source": [
    "%%time\n",
    "\n",
    "from dask.distributed import Client\n",
    "c = Client()\n",
    "print(c)"
   ]
  },
  {
   "cell_type": "markdown",
   "metadata": {},
   "source": [
    "**The function below** calculates the quasi-barotropic streamfunction for each simulation. In each case, we read in only the last IAF cycle, then we average over the standard time period."
   ]
  },
  {
   "cell_type": "code",
   "execution_count": 56,
   "metadata": {},
   "outputs": [
    {
     "name": "stdout",
     "output_type": "stream",
     "text": [
      "025deg_jra55v13_iaf_gmredi6\n",
      "days since 1718-01-01\n",
      "-34\n",
      "-87658\n",
      "Using database sqlite:////g/data3/hh5/tmp/cosima/cosima-cookbook/cosima-cookbook.db\n",
      "<xarray.DataArray 'temp' (year: 25, st_ocean: 50, yt_ocean: 475)>\n",
      "array([[[      nan,       nan, ..., 300.57495, 300.5372 ],\n",
      "        [      nan,       nan, ..., 300.56003, 300.52164],\n",
      "        ...,\n",
      "        [      nan,       nan, ...,       nan,       nan],\n",
      "        [      nan,       nan, ...,       nan,       nan]],\n",
      "\n",
      "       [[      nan,       nan, ..., 300.72272, 300.68854],\n",
      "        [      nan,       nan, ..., 300.71036, 300.67627],\n",
      "        ...,\n",
      "        [      nan,       nan, ...,       nan,       nan],\n",
      "        [      nan,       nan, ...,       nan,       nan]],\n",
      "\n",
      "       ...,\n",
      "\n",
      "       [[      nan,       nan, ..., 301.01392, 300.98694],\n",
      "        [      nan,       nan, ..., 301.00003, 300.97214],\n",
      "        ...,\n",
      "        [      nan,       nan, ...,       nan,       nan],\n",
      "        [      nan,       nan, ...,       nan,       nan]],\n",
      "\n",
      "       [[      nan,       nan, ..., 301.1695 , 301.13348],\n",
      "        [      nan,       nan, ..., 301.15585, 301.11902],\n",
      "        ...,\n",
      "        [      nan,       nan, ...,       nan,       nan],\n",
      "        [      nan,       nan, ...,       nan,       nan]]], dtype=float32)\n",
      "Coordinates:\n",
      "  * yt_ocean  (yt_ocean) float64 -69.99 -69.88 -69.78 ... 19.49 19.72 19.96\n",
      "    xt_ocean  float64 -212.9\n",
      "  * st_ocean  (st_ocean) float64 1.152 3.649 6.565 ... 5.034e+03 5.254e+03\n",
      "  * year      (year) int64 1993 1994 1995 1996 1997 ... 2013 2014 2015 2016 2017\n",
      "CPU times: user 21.4 s, sys: 12.9 s, total: 34.3 s\n",
      "Wall time: 34.7 s\n"
     ]
    }
   ],
   "source": [
    "%%time\n",
    "latS = -70\n",
    "latN = 20\n",
    "lon_line = 147-360\n",
    "ekey='025deg'\n",
    "expt = exptdata.exptdict[ekey]['expt']\n",
    "time_units = exptdata.exptdict[ekey]['time_units']\n",
    "n_files = exptdata.exptdict[ekey]['n_files']\n",
    "offset = exptdata.exptdict[ekey]['offset']\n",
    "print(expt)\n",
    "print(time_units)\n",
    "print(n_files)\n",
    "print(offset)\n",
    "temp = cc.get_nc_variable(expt,'ocean.nc','temp',time_units=time_units,n=n_files,offset=offset).\\\n",
    "                            sel(time=slice(exptdata.clim_tstart,exptdata.clim_tend)).\\\n",
    "                            sel(yt_ocean=slice(latS,latN)).\\\n",
    "                            sel(xt_ocean=lon_line, method='nearest').\\\n",
    "                            groupby('time.year').mean(dim='time', skipna=True)\n",
    "temp.load()\n",
    "print(temp)"
   ]
  },
  {
   "cell_type": "code",
   "execution_count": 54,
   "metadata": {},
   "outputs": [
    {
     "name": "stdout",
     "output_type": "stream",
     "text": [
      "Using database sqlite:////g/data3/hh5/tmp/cosima/cosima-cookbook/cosima-cookbook.db\n",
      "<xarray.DataArray 'salt' (year: 25, st_ocean: 50, yt_ocean: 475)>\n",
      "array([[[      nan,       nan, ..., 35.109665, 35.13308 ],\n",
      "        [      nan,       nan, ..., 35.109627, 35.133076],\n",
      "        ...,\n",
      "        [      nan,       nan, ...,       nan,       nan],\n",
      "        [      nan,       nan, ...,       nan,       nan]],\n",
      "\n",
      "       [[      nan,       nan, ..., 35.0041  , 35.01461 ],\n",
      "        [      nan,       nan, ..., 35.004566, 35.015106],\n",
      "        ...,\n",
      "        [      nan,       nan, ...,       nan,       nan],\n",
      "        [      nan,       nan, ...,       nan,       nan]],\n",
      "\n",
      "       ...,\n",
      "\n",
      "       [[      nan,       nan, ..., 35.170616, 35.175762],\n",
      "        [      nan,       nan, ..., 35.170906, 35.175953],\n",
      "        ...,\n",
      "        [      nan,       nan, ...,       nan,       nan],\n",
      "        [      nan,       nan, ...,       nan,       nan]],\n",
      "\n",
      "       [[      nan,       nan, ..., 35.0387  , 35.07677 ],\n",
      "        [      nan,       nan, ..., 35.040077, 35.077637],\n",
      "        ...,\n",
      "        [      nan,       nan, ...,       nan,       nan],\n",
      "        [      nan,       nan, ...,       nan,       nan]]], dtype=float32)\n",
      "Coordinates:\n",
      "  * yt_ocean  (yt_ocean) float64 -69.99 -69.88 -69.78 ... 19.49 19.72 19.96\n",
      "    xt_ocean  float64 -212.9\n",
      "  * st_ocean  (st_ocean) float64 1.152 3.649 6.565 ... 5.034e+03 5.254e+03\n",
      "  * year      (year) int64 1993 1994 1995 1996 1997 ... 2013 2014 2015 2016 2017\n",
      "CPU times: user 20.8 s, sys: 12.6 s, total: 33.5 s\n",
      "Wall time: 34 s\n"
     ]
    }
   ],
   "source": [
    "%%time\n",
    "salt = cc.get_nc_variable(expt,'ocean.nc','salt',time_units=time_units,n=n_files,offset=offset).\\\n",
    "                            sel(time=slice(exptdata.clim_tstart,exptdata.clim_tend)).\\\n",
    "                            sel(yt_ocean=slice(latS,latN)).\\\n",
    "                            sel(xt_ocean=lon_line, method='nearest').\\\n",
    "                            groupby('time.year').mean(dim='time', skipna=True)\n",
    "\n",
    "salt.load()\n",
    "print(salt)"
   ]
  },
  {
   "cell_type": "code",
   "execution_count": 55,
   "metadata": {},
   "outputs": [
    {
     "name": "stdout",
     "output_type": "stream",
     "text": [
      "Using database sqlite:////g/data3/hh5/tmp/cosima/cosima-cookbook/cosima-cookbook.db\n",
      "<xarray.DataArray 'u' (year: 25, st_ocean: 50, yu_ocean: 474)>\n",
      "array([[[      nan,       nan, ..., -0.028833, -0.025528],\n",
      "        [      nan,       nan, ..., -0.012683, -0.00949 ],\n",
      "        ...,\n",
      "        [      nan,       nan, ...,       nan,       nan],\n",
      "        [      nan,       nan, ...,       nan,       nan]],\n",
      "\n",
      "       [[      nan,       nan, ..., -0.030072, -0.033337],\n",
      "        [      nan,       nan, ..., -0.016084, -0.019613],\n",
      "        ...,\n",
      "        [      nan,       nan, ...,       nan,       nan],\n",
      "        [      nan,       nan, ...,       nan,       nan]],\n",
      "\n",
      "       ...,\n",
      "\n",
      "       [[      nan,       nan, ..., -0.065279, -0.05542 ],\n",
      "        [      nan,       nan, ..., -0.051496, -0.041903],\n",
      "        ...,\n",
      "        [      nan,       nan, ...,       nan,       nan],\n",
      "        [      nan,       nan, ...,       nan,       nan]],\n",
      "\n",
      "       [[      nan,       nan, ...,  0.012009, -0.030643],\n",
      "        [      nan,       nan, ...,  0.025525, -0.017684],\n",
      "        ...,\n",
      "        [      nan,       nan, ...,       nan,       nan],\n",
      "        [      nan,       nan, ...,       nan,       nan]]], dtype=float32)\n",
      "Coordinates:\n",
      "  * yu_ocean  (yu_ocean) float64 -69.94 -69.83 -69.73 ... 19.37 19.61 19.84\n",
      "  * st_ocean  (st_ocean) float64 1.152 3.649 6.565 ... 5.034e+03 5.254e+03\n",
      "    xu_ocean  float64 -213.0\n",
      "  * year      (year) int64 1993 1994 1995 1996 1997 ... 2013 2014 2015 2016 2017\n",
      "CPU times: user 21.1 s, sys: 13.4 s, total: 34.5 s\n",
      "Wall time: 34.8 s\n"
     ]
    }
   ],
   "source": [
    "%%time\n",
    "u = cc.get_nc_variable(expt,'ocean.nc','u',time_units=time_units,n=n_files,offset=offset).\\\n",
    "                            sel(time=slice(exptdata.clim_tstart,exptdata.clim_tend)).\\\n",
    "                            sel(yu_ocean=slice(latS,latN)).\\\n",
    "                            sel(xu_ocean=lon_line, method='nearest').\\\n",
    "                            groupby('time.year').mean(dim='time', skipna=True)\n",
    "\n",
    "u.load()\n",
    "print(u)"
   ]
  },
  {
   "cell_type": "code",
   "execution_count": 57,
   "metadata": {},
   "outputs": [
    {
     "name": "stdout",
     "output_type": "stream",
     "text": [
      "Using database sqlite:////g/data3/hh5/tmp/cosima/cosima-cookbook/cosima-cookbook.db\n",
      "<xarray.DataArray 'v' (year: 25, st_ocean: 50, yu_ocean: 474)>\n",
      "array([[[     nan,      nan, ..., 0.037088, 0.035447],\n",
      "        [     nan,      nan, ..., 0.037267, 0.03548 ],\n",
      "        ...,\n",
      "        [     nan,      nan, ...,      nan,      nan],\n",
      "        [     nan,      nan, ...,      nan,      nan]],\n",
      "\n",
      "       [[     nan,      nan, ..., 0.021651, 0.024652],\n",
      "        [     nan,      nan, ..., 0.021474, 0.024377],\n",
      "        ...,\n",
      "        [     nan,      nan, ...,      nan,      nan],\n",
      "        [     nan,      nan, ...,      nan,      nan]],\n",
      "\n",
      "       ...,\n",
      "\n",
      "       [[     nan,      nan, ..., 0.0376  , 0.036528],\n",
      "        [     nan,      nan, ..., 0.035514, 0.034312],\n",
      "        ...,\n",
      "        [     nan,      nan, ...,      nan,      nan],\n",
      "        [     nan,      nan, ...,      nan,      nan]],\n",
      "\n",
      "       [[     nan,      nan, ..., 0.037446, 0.03701 ],\n",
      "        [     nan,      nan, ..., 0.037469, 0.036964],\n",
      "        ...,\n",
      "        [     nan,      nan, ...,      nan,      nan],\n",
      "        [     nan,      nan, ...,      nan,      nan]]], dtype=float32)\n",
      "Coordinates:\n",
      "  * yu_ocean  (yu_ocean) float64 -69.94 -69.83 -69.73 ... 19.37 19.61 19.84\n",
      "  * st_ocean  (st_ocean) float64 1.152 3.649 6.565 ... 5.034e+03 5.254e+03\n",
      "    xu_ocean  float64 -213.0\n",
      "  * year      (year) int64 1993 1994 1995 1996 1997 ... 2013 2014 2015 2016 2017\n",
      "CPU times: user 22.2 s, sys: 12.8 s, total: 35 s\n",
      "Wall time: 36.1 s\n"
     ]
    }
   ],
   "source": [
    "%%time\n",
    "v = cc.get_nc_variable(expt,'ocean.nc','v',time_units=time_units,n=n_files,offset=offset).\\\n",
    "                            sel(time=slice(exptdata.clim_tstart,exptdata.clim_tend)).\\\n",
    "                            sel(yu_ocean=slice(latS,latN)).\\\n",
    "                            sel(xu_ocean=lon_line, method='nearest').\\\n",
    "                            groupby('time.year').mean(dim='time', skipna=True)\n",
    "\n",
    "v.load()\n",
    "print(v)"
   ]
  },
  {
   "cell_type": "code",
   "execution_count": 58,
   "metadata": {},
   "outputs": [
    {
     "name": "stdout",
     "output_type": "stream",
     "text": [
      "Using database sqlite:////g/data3/hh5/tmp/cosima/cosima-cookbook/cosima-cookbook.db\n",
      "<xarray.DataArray 'wt' (year: 25, sw_ocean: 50, yt_ocean: 475)>\n",
      "array([[[          nan,           nan, ...,  7.606929e-08,  5.244623e-08],\n",
      "        [          nan,           nan, ...,  1.162699e-07,  7.141072e-08],\n",
      "        ...,\n",
      "        [          nan,           nan, ...,           nan,           nan],\n",
      "        [          nan,           nan, ...,           nan,           nan]],\n",
      "\n",
      "       [[          nan,           nan, ..., -5.929167e-08, -3.946807e-08],\n",
      "        [          nan,           nan, ..., -1.440251e-07, -9.071417e-08],\n",
      "        ...,\n",
      "        [          nan,           nan, ...,           nan,           nan],\n",
      "        [          nan,           nan, ...,           nan,           nan]],\n",
      "\n",
      "       ...,\n",
      "\n",
      "       [[          nan,           nan, ..., -5.693848e-08, -6.024285e-08],\n",
      "        [          nan,           nan, ..., -1.556662e-07, -1.593203e-07],\n",
      "        ...,\n",
      "        [          nan,           nan, ...,           nan,           nan],\n",
      "        [          nan,           nan, ...,           nan,           nan]],\n",
      "\n",
      "       [[          nan,           nan, ..., -2.846087e-07, -1.446712e-07],\n",
      "        [          nan,           nan, ..., -6.290464e-07, -3.265769e-07],\n",
      "        ...,\n",
      "        [          nan,           nan, ...,           nan,           nan],\n",
      "        [          nan,           nan, ...,           nan,           nan]]],\n",
      "      dtype=float32)\n",
      "Coordinates:\n",
      "  * yt_ocean  (yt_ocean) float64 -69.99 -69.88 -69.78 ... 19.49 19.72 19.96\n",
      "    xt_ocean  float64 -212.9\n",
      "  * sw_ocean  (sw_ocean) float64 2.303 4.994 8.136 ... 5.144e+03 5.363e+03\n",
      "  * year      (year) int64 1993 1994 1995 1996 1997 ... 2013 2014 2015 2016 2017\n",
      "CPU times: user 22.2 s, sys: 11.9 s, total: 34.1 s\n",
      "Wall time: 37.6 s\n"
     ]
    }
   ],
   "source": [
    "%%time\n",
    "wt = cc.get_nc_variable(expt,'ocean.nc','wt',time_units=time_units,n=n_files,offset=offset).\\\n",
    "                            sel(time=slice(exptdata.clim_tstart,exptdata.clim_tend)).\\\n",
    "                            sel(yt_ocean=slice(latS,latN)).\\\n",
    "                            sel(xt_ocean=lon_line, method='nearest').\\\n",
    "                            groupby('time.year').mean(dim='time', skipna=True)\n",
    "\n",
    "wt.load()\n",
    "print(wt)"
   ]
  },
  {
   "cell_type": "code",
   "execution_count": 59,
   "metadata": {},
   "outputs": [
    {
     "name": "stdout",
     "output_type": "stream",
     "text": [
      "Using database sqlite:////g/data3/hh5/tmp/cosima/cosima-cookbook/cosima-cookbook.db\n",
      "<xarray.DataArray 'eta_t' (time: 300, yt_ocean: 475)>\n",
      "array([[     nan,      nan,      nan, ..., 0.76846 , 0.774833, 0.781293],\n",
      "       [     nan,      nan,      nan, ..., 0.787871, 0.787978, 0.787947],\n",
      "       [     nan,      nan,      nan, ..., 0.813277, 0.812728, 0.806874],\n",
      "       ...,\n",
      "       [     nan,      nan,      nan, ..., 0.857443, 0.853326, 0.850671],\n",
      "       [     nan,      nan,      nan, ..., 0.891594, 0.89856 , 0.902322],\n",
      "       [     nan,      nan,      nan, ..., 0.917659, 0.910793, 0.907701]],\n",
      "      dtype=float32)\n",
      "Coordinates:\n",
      "    xt_ocean  float64 -212.9\n",
      "  * yt_ocean  (yt_ocean) float64 -69.99 -69.88 -69.78 ... 19.49 19.72 19.96\n",
      "  * time      (time) datetime64[ns] 1993-01-14T12:00:00 ... 2017-12-14T12:00:00\n",
      "Attributes:\n",
      "    long_name:      surface height on T cells [Boussinesq (volume conserving)...\n",
      "    units:          meter\n",
      "    valid_range:    [-1000.  1000.]\n",
      "    cell_methods:   time: mean\n",
      "    time_avg_info:  average_T1,average_T2,average_DT\n",
      "    coordinates:    geolon_t geolat_t\n",
      "<xarray.DataArray 'eta_t' (year: 25, yt_ocean: 475)>\n",
      "array([[     nan,      nan,      nan, ..., 0.819792, 0.818623, 0.816902],\n",
      "       [     nan,      nan,      nan, ..., 0.803351, 0.801868, 0.800027],\n",
      "       [     nan,      nan,      nan, ..., 0.799699, 0.801433, 0.804531],\n",
      "       ...,\n",
      "       [     nan,      nan,      nan, ..., 0.81043 , 0.813891, 0.815772],\n",
      "       [     nan,      nan,      nan, ..., 0.82796 , 0.834091, 0.837624],\n",
      "       [     nan,      nan,      nan, ..., 0.841386, 0.836925, 0.834969]],\n",
      "      dtype=float32)\n",
      "Coordinates:\n",
      "    xt_ocean  float64 -212.9\n",
      "  * yt_ocean  (yt_ocean) float64 -69.99 -69.88 -69.78 ... 19.49 19.72 19.96\n",
      "  * year      (year) int64 1993 1994 1995 1996 1997 ... 2013 2014 2015 2016 2017\n",
      "CPU times: user 21.7 s, sys: 12.8 s, total: 34.5 s\n",
      "Wall time: 35.8 s\n"
     ]
    },
    {
     "name": "stderr",
     "output_type": "stream",
     "text": [
      "/g/data3/hh5/public/apps/miniconda3/envs/analysis3-18.10/lib/python3.6/site-packages/xarray/core/nanops.py:161: RuntimeWarning: Mean of empty slice\n",
      "  return np.nanmean(a, axis=axis, dtype=dtype)\n"
     ]
    }
   ],
   "source": [
    "%%time\n",
    "eta_t_month = cc.get_nc_variable(expt,'ocean_month.nc','eta_t',time_units=time_units,n=n_files,offset=offset).\\\n",
    "                            sel(time=slice(exptdata.clim_tstart,exptdata.clim_tend)).\\\n",
    "                            sel(yt_ocean=slice(latS,latN)).\\\n",
    "                            sel(xt_ocean=lon_line, method='nearest')\n",
    "\n",
    "eta_t_month.load()\n",
    "print(eta_t_month)\n",
    "\n",
    "eta_t = eta_t_month.groupby('time.year').mean('time', skipna=True)\n",
    "print(eta_t)"
   ]
  },
  {
   "cell_type": "code",
   "execution_count": 86,
   "metadata": {},
   "outputs": [
    {
     "name": "stdout",
     "output_type": "stream",
     "text": [
      "Using database sqlite:////g/data3/hh5/tmp/cosima/cosima-cookbook/cosima-cookbook.db\n",
      "<xarray.DataArray 'mld' (time: 300, yt_ocean: 475)>\n",
      "array([[      nan,       nan,       nan, ..., 79.962814, 80.78807 , 79.140495],\n",
      "       [      nan,       nan,       nan, ..., 72.70287 , 73.44772 , 78.0752  ],\n",
      "       [      nan,       nan,       nan, ..., 81.00894 , 84.48596 , 66.05107 ],\n",
      "       ...,\n",
      "       [      nan,       nan,       nan, ..., 29.263578, 28.241894, 26.521938],\n",
      "       [      nan,       nan,       nan, ..., 44.169273, 43.92437 , 43.31889 ],\n",
      "       [      nan,       nan,       nan, ..., 45.43707 , 35.170036, 41.278164]],\n",
      "      dtype=float32)\n",
      "Coordinates:\n",
      "    xt_ocean  float64 -212.9\n",
      "  * yt_ocean  (yt_ocean) float64 -69.99 -69.88 -69.78 ... 19.49 19.72 19.96\n",
      "  * time      (time) datetime64[ns] 1993-01-14T12:00:00 ... 2017-12-14T12:00:00\n",
      "Attributes:\n",
      "    long_name:      mixed layer depth determined by density criteria\n",
      "    units:          m\n",
      "    valid_range:    [      0. 1000000.]\n",
      "    cell_methods:   time: mean\n",
      "    time_avg_info:  average_T1,average_T2,average_DT\n",
      "    coordinates:    geolon_t geolat_t\n",
      "    standard_name:  ocean_mixed_layer_thickness_defined_by_sigma_t\n",
      "<xarray.DataArray 'mld' (year: 25, yt_ocean: 475)>\n",
      "array([[      nan,       nan,       nan, ..., 39.22028 , 38.869553, 37.146626],\n",
      "       [      nan,       nan,       nan, ..., 34.22523 , 34.456413, 34.783688],\n",
      "       [      nan,       nan,       nan, ..., 33.28684 , 34.329678, 34.506157],\n",
      "       ...,\n",
      "       [      nan,       nan,       nan, ..., 40.783848, 40.81233 , 40.815666],\n",
      "       [      nan,       nan,       nan, ..., 33.21613 , 33.35346 , 32.948406],\n",
      "       [      nan,       nan,       nan, ..., 29.051931, 28.53244 , 30.707527]],\n",
      "      dtype=float32)\n",
      "Coordinates:\n",
      "    xt_ocean  float64 -212.9\n",
      "  * yt_ocean  (yt_ocean) float64 -69.99 -69.88 -69.78 ... 19.49 19.72 19.96\n",
      "  * year      (year) int64 1993 1994 1995 1996 1997 ... 2013 2014 2015 2016 2017\n",
      "CPU times: user 21.2 s, sys: 13 s, total: 34.2 s\n",
      "Wall time: 35.5 s\n"
     ]
    },
    {
     "name": "stderr",
     "output_type": "stream",
     "text": [
      "/g/data3/hh5/public/apps/miniconda3/envs/analysis3-18.10/lib/python3.6/site-packages/xarray/core/nanops.py:161: RuntimeWarning: Mean of empty slice\n",
      "  return np.nanmean(a, axis=axis, dtype=dtype)\n"
     ]
    }
   ],
   "source": [
    "%%time\n",
    "mld_month = cc.get_nc_variable(expt,'ocean_month.nc','mld',time_units=time_units,n=n_files,offset=offset).\\\n",
    "                            sel(time=slice(exptdata.clim_tstart,exptdata.clim_tend)).\\\n",
    "                            sel(yt_ocean=slice(latS,latN)).\\\n",
    "                            sel(xt_ocean=lon_line, method='nearest')\n",
    "\n",
    "mld_month.load()\n",
    "print(mld_month)\n",
    "\n",
    "mld = mld_month.groupby('time.year').mean('time', skipna=True)\n",
    "print(mld)"
   ]
  },
  {
   "cell_type": "code",
   "execution_count": 60,
   "metadata": {},
   "outputs": [
    {
     "name": "stdout",
     "output_type": "stream",
     "text": [
      "<xarray.DataArray 'prrn' (year: 25, latitude: 161)>\n",
      "array([[4.698953e-09, 4.103945e-09, 2.540888e-09, ..., 3.008598e-05,\n",
      "        3.074769e-05, 2.993452e-05],\n",
      "       [4.889416e-09, 4.151919e-09, 2.534088e-09, ..., 4.703656e-05,\n",
      "        4.748825e-05, 4.772401e-05],\n",
      "       [3.831155e-09, 3.401000e-09, 2.582156e-09, ..., 3.585065e-05,\n",
      "        3.486677e-05, 3.689654e-05],\n",
      "       ...,\n",
      "       [5.259237e-09, 4.424064e-09, 2.789098e-09, ..., 3.097581e-05,\n",
      "        3.068594e-05, 2.967098e-05],\n",
      "       [6.424940e-09, 5.341328e-09, 2.932432e-09, ..., 3.823567e-05,\n",
      "        3.894283e-05, 3.974803e-05],\n",
      "       [5.299083e-09, 4.312467e-09, 2.605142e-09, ..., 4.668641e-05,\n",
      "        4.517012e-05, 4.332715e-05]], dtype=float32)\n",
      "Coordinates:\n",
      "  * latitude   (latitude) float64 -69.92 -69.36 -68.8 ... 18.81 19.38 19.94\n",
      "    longitude  float64 146.8\n",
      "  * year       (year) int64 1993 1994 1995 1996 1997 ... 2014 2015 2016 2017\n",
      "CPU times: user 600 ms, sys: 61 ms, total: 661 ms\n",
      "Wall time: 643 ms\n"
     ]
    }
   ],
   "source": [
    "%%time\n",
    "\n",
    "var = 'rain'\n",
    "\n",
    "all_files = sorted(gb('/g/data/e14/erd561/JRA55-do/v1-3/' + var + '.*.*.nc'))\n",
    "\n",
    "rain = xr.open_mfdataset(all_files).prrn.\\\n",
    "                            sel(longitude=lon_line+360, method='nearest').\\\n",
    "                            groupby('time.year').mean(dim='time', skipna=True)\n",
    "\n",
    "rain.load()\n",
    "print(rain)"
   ]
  },
  {
   "cell_type": "code",
   "execution_count": 61,
   "metadata": {},
   "outputs": [
    {
     "name": "stdout",
     "output_type": "stream",
     "text": [
      "<xarray.DataArray 'tas_10m' (year: 25, latitude: 161)>\n",
      "array([[257.60977, 258.25916, 259.11172, ..., 300.15576, 300.04877, 299.93936],\n",
      "       [257.6359 , 258.27838, 259.03333, ..., 300.33914, 300.20602, 300.0688 ],\n",
      "       [257.59763, 258.2356 , 258.97675, ..., 300.1705 , 300.04333, 299.90677],\n",
      "       ...,\n",
      "       [257.6052 , 258.25723, 258.9849 , ..., 300.43   , 300.2966 , 300.1668 ],\n",
      "       [257.62387, 258.29324, 259.19022, ..., 300.80014, 300.70944, 300.61615],\n",
      "       [257.59384, 258.2153 , 258.88757, ..., 300.69763, 300.56888, 300.42978]],\n",
      "      dtype=float32)\n",
      "Coordinates:\n",
      "  * latitude   (latitude) float64 -69.92 -69.36 -68.8 ... 18.81 19.38 19.94\n",
      "    longitude  float64 146.8\n",
      "  * year       (year) int64 1993 1994 1995 1996 1997 ... 2014 2015 2016 2017\n",
      "CPU times: user 637 ms, sys: 86 ms, total: 723 ms\n",
      "Wall time: 766 ms\n"
     ]
    }
   ],
   "source": [
    "%%time\n",
    "\n",
    "var = 't_10'\n",
    "\n",
    "all_files = sorted(gb('/g/data/e14/erd561/JRA55-do/v1-3/' + var + '.*.*.nc'))\n",
    "\n",
    "t_10 = xr.open_mfdataset(all_files).tas_10m.\\\n",
    "                            sel(longitude=lon_line+360, method='nearest').\\\n",
    "                            groupby('time.year').mean(dim='time', skipna=True)\n",
    "\n",
    "t_10.load()\n",
    "print(t_10)"
   ]
  },
  {
   "cell_type": "code",
   "execution_count": 62,
   "metadata": {},
   "outputs": [
    {
     "name": "stdout",
     "output_type": "stream",
     "text": [
      "<xarray.DataArray 'uas_10m' (year: 25, latitude: 161)>\n",
      "array([[-0.864717, -1.866881, -2.049408, ..., -5.148875, -4.994844, -4.829336],\n",
      "       [-0.595102, -1.642755, -1.86371 , ..., -4.351091, -4.267661, -4.164502],\n",
      "       [-0.857868, -1.910532, -2.140285, ..., -4.561666, -4.365612, -4.158978],\n",
      "       ...,\n",
      "       [-0.792282, -1.798271, -1.983795, ..., -5.208224, -5.086404, -4.945365],\n",
      "       [-0.989203, -2.028984, -2.180216, ..., -4.486176, -4.262334, -4.029227],\n",
      "       [-0.683624, -1.706101, -1.872647, ..., -4.558222, -4.27526 , -3.985567]],\n",
      "      dtype=float32)\n",
      "Coordinates:\n",
      "  * latitude   (latitude) float64 -69.92 -69.36 -68.8 ... 18.81 19.38 19.94\n",
      "    longitude  float64 146.8\n",
      "  * year       (year) int64 1993 1994 1995 1996 1997 ... 2014 2015 2016 2017\n",
      "CPU times: user 547 ms, sys: 58 ms, total: 605 ms\n",
      "Wall time: 693 ms\n"
     ]
    }
   ],
   "source": [
    "%%time\n",
    "\n",
    "var = 'u_10'\n",
    "\n",
    "all_files = sorted(gb('/g/data/e14/erd561/JRA55-do/v1-3/' + var + '.*.*.nc'))\n",
    "\n",
    "u_10 = xr.open_mfdataset(all_files).uas_10m.\\\n",
    "                            sel(longitude=lon_line+360, method='nearest').\\\n",
    "                            groupby('time.year').mean(dim='time', skipna=True)\n",
    "\n",
    "u_10.load()\n",
    "print(u_10)"
   ]
  },
  {
   "cell_type": "code",
   "execution_count": 63,
   "metadata": {},
   "outputs": [
    {
     "name": "stdout",
     "output_type": "stream",
     "text": [
      "<xarray.DataArray 'psl' (year: 25, latitude: 161)>\n",
      "array([[ 99492.266,  99100.64 ,  98720.73 , ..., 101282.11 , 101306.43 ,\n",
      "        101328.88 ],\n",
      "       [ 99972.01 ,  99571.64 ,  99185.67 , ..., 101157.28 , 101180.984,\n",
      "        101202.766],\n",
      "       [ 99913.53 ,  99516.66 ,  99133.96 , ..., 101279.12 , 101301.445,\n",
      "        101321.69 ],\n",
      "       ...,\n",
      "       [ 99555.72 ,  99164.69 ,  98794.19 , ..., 101250.89 , 101277.46 ,\n",
      "        101301.91 ],\n",
      "       [ 99738.875,  99333.73 ,  98943.68 , ..., 101307.836, 101327.74 ,\n",
      "        101345.32 ],\n",
      "       [ 99792.97 ,  99389.8  ,  98998.61 , ..., 101267.13 , 101289.66 ,\n",
      "        101309.914]], dtype=float32)\n",
      "Coordinates:\n",
      "  * latitude   (latitude) float64 -69.92 -69.36 -68.8 ... 18.81 19.38 19.94\n",
      "    longitude  float64 146.8\n",
      "  * year       (year) int64 1993 1994 1995 1996 1997 ... 2014 2015 2016 2017\n",
      "CPU times: user 829 ms, sys: 65 ms, total: 894 ms\n",
      "Wall time: 937 ms\n"
     ]
    }
   ],
   "source": [
    "%%time\n",
    "\n",
    "var = 'slp'\n",
    "\n",
    "all_files = sorted(gb('/g/data/e14/erd561/JRA55-do/v1-3/' + var + '.*.*.nc'))\n",
    "\n",
    "slp = xr.open_mfdataset(all_files).psl.\\\n",
    "                            sel(longitude=lon_line+360, method='nearest').\\\n",
    "                            groupby('time.year').mean(dim='time', skipna=True)\n",
    "\n",
    "slp.load()\n",
    "print(slp)"
   ]
  },
  {
   "cell_type": "code",
   "execution_count": 64,
   "metadata": {},
   "outputs": [
    {
     "name": "stdout",
     "output_type": "stream",
     "text": [
      "<xarray.DataArray 'vas_10m' (year: 25, latitude: 161)>\n",
      "array([[11.187091, 12.11509 , 11.769706, ..., -0.911018, -0.846853, -0.825779],\n",
      "       [11.659288, 12.595819, 12.11179 , ..., -0.812063, -0.812943, -0.813835],\n",
      "       [11.783933, 12.686724, 12.253807, ..., -0.755787, -0.686751, -0.647832],\n",
      "       ...,\n",
      "       [11.649402, 12.530341, 12.06144 , ..., -1.715658, -1.595199, -1.46991 ],\n",
      "       [11.642285, 12.592342, 12.232338, ..., -0.278292, -0.189497, -0.103406],\n",
      "       [12.030533, 13.050516, 12.722157, ..., -0.9742  , -0.878809, -0.799134]],\n",
      "      dtype=float32)\n",
      "Coordinates:\n",
      "  * latitude   (latitude) float64 -69.92 -69.36 -68.8 ... 18.81 19.38 19.94\n",
      "    longitude  float64 146.8\n",
      "  * year       (year) int64 1993 1994 1995 1996 1997 ... 2014 2015 2016 2017\n",
      "CPU times: user 663 ms, sys: 96 ms, total: 759 ms\n",
      "Wall time: 812 ms\n"
     ]
    }
   ],
   "source": [
    "%%time\n",
    "\n",
    "var = 'v_10'\n",
    "\n",
    "all_files = sorted(gb('/g/data/e14/erd561/JRA55-do/v1-3/' + var + '.*.*.nc'))\n",
    "\n",
    "v_10 = xr.open_mfdataset(all_files).vas_10m.\\\n",
    "                            sel(longitude=lon_line+360, method='nearest').\\\n",
    "                            groupby('time.year').mean(dim='time', skipna=True)\n",
    "\n",
    "v_10.load()\n",
    "print(v_10)"
   ]
  },
  {
   "cell_type": "code",
   "execution_count": 89,
   "metadata": {},
   "outputs": [
    {
     "name": "stdout",
     "output_type": "stream",
     "text": [
      "<xarray.DataArray 'temp' (st_ocean: 50, yt_ocean: 475)>\n",
      "array([[      nan,       nan,       nan, ..., 300.9782 , 300.9346 , 300.89224],\n",
      "       [      nan,       nan,       nan, ..., 300.96625, 300.92218, 300.87952],\n",
      "       [      nan,       nan,       nan, ..., 300.9505 , 300.90594, 300.8627 ],\n",
      "       ...,\n",
      "       [      nan,       nan,       nan, ...,       nan,       nan,       nan],\n",
      "       [      nan,       nan,       nan, ...,       nan,       nan,       nan],\n",
      "       [      nan,       nan,       nan, ...,       nan,       nan,       nan]],\n",
      "      dtype=float32)\n",
      "Coordinates:\n",
      "  * yt_ocean  (yt_ocean) float64 -69.99 -69.88 -69.78 ... 19.49 19.72 19.96\n",
      "    xt_ocean  float64 -212.9\n",
      "  * st_ocean  (st_ocean) float64 1.152 3.649 6.565 ... 5.034e+03 5.254e+03\n",
      "<xarray.DataArray 'salt' (st_ocean: 50, yt_ocean: 475)>\n",
      "array([[      nan,       nan,       nan, ..., 35.04076 , 35.046207, 35.04997 ],\n",
      "       [      nan,       nan,       nan, ..., 35.041084, 35.04662 , 35.050327],\n",
      "       [      nan,       nan,       nan, ..., 35.041378, 35.046955, 35.050636],\n",
      "       ...,\n",
      "       [      nan,       nan,       nan, ...,       nan,       nan,       nan],\n",
      "       [      nan,       nan,       nan, ...,       nan,       nan,       nan],\n",
      "       [      nan,       nan,       nan, ...,       nan,       nan,       nan]],\n",
      "      dtype=float32)\n",
      "Coordinates:\n",
      "  * yt_ocean  (yt_ocean) float64 -69.99 -69.88 -69.78 ... 19.49 19.72 19.96\n",
      "    xt_ocean  float64 -212.9\n",
      "  * st_ocean  (st_ocean) float64 1.152 3.649 6.565 ... 5.034e+03 5.254e+03\n",
      "<xarray.DataArray 'u' (st_ocean: 50, yu_ocean: 474)>\n",
      "array([[      nan,       nan,       nan, ..., -0.034134, -0.026474, -0.022627],\n",
      "       [      nan,       nan,       nan, ..., -0.019161, -0.011728, -0.008112],\n",
      "       [      nan,       nan,       nan, ..., -0.008697, -0.00148 ,  0.001933],\n",
      "       ...,\n",
      "       [      nan,       nan,       nan, ...,       nan,       nan,       nan],\n",
      "       [      nan,       nan,       nan, ...,       nan,       nan,       nan],\n",
      "       [      nan,       nan,       nan, ...,       nan,       nan,       nan]],\n",
      "      dtype=float32)\n",
      "Coordinates:\n",
      "  * yu_ocean  (yu_ocean) float64 -69.94 -69.83 -69.73 ... 19.37 19.61 19.84\n",
      "  * st_ocean  (st_ocean) float64 1.152 3.649 6.565 ... 5.034e+03 5.254e+03\n",
      "    xu_ocean  float64 -213.0\n",
      "<xarray.DataArray 'v' (st_ocean: 50, yu_ocean: 474)>\n",
      "array([[     nan,      nan,      nan, ..., 0.034523, 0.035251, 0.036934],\n",
      "       [     nan,      nan,      nan, ..., 0.034568, 0.035187, 0.036759],\n",
      "       [     nan,      nan,      nan, ..., 0.031797, 0.03231 , 0.033778],\n",
      "       ...,\n",
      "       [     nan,      nan,      nan, ...,      nan,      nan,      nan],\n",
      "       [     nan,      nan,      nan, ...,      nan,      nan,      nan],\n",
      "       [     nan,      nan,      nan, ...,      nan,      nan,      nan]],\n",
      "      dtype=float32)\n",
      "Coordinates:\n",
      "  * yu_ocean  (yu_ocean) float64 -69.94 -69.83 -69.73 ... 19.37 19.61 19.84\n",
      "  * st_ocean  (st_ocean) float64 1.152 3.649 6.565 ... 5.034e+03 5.254e+03\n",
      "    xu_ocean  float64 -213.0\n",
      "<xarray.DataArray 'wt' (sw_ocean: 50, yt_ocean: 475)>\n",
      "array([[          nan,           nan,           nan, ..., -7.701051e-08,\n",
      "        -6.020955e-08, -3.694862e-08],\n",
      "       [          nan,           nan,           nan, ..., -1.897247e-07,\n",
      "        -1.598385e-07, -1.032080e-07],\n",
      "       [          nan,           nan,           nan, ..., -3.281284e-07,\n",
      "        -2.823678e-07, -1.869422e-07],\n",
      "       ...,\n",
      "       [          nan,           nan,           nan, ...,           nan,\n",
      "                  nan,           nan],\n",
      "       [          nan,           nan,           nan, ...,           nan,\n",
      "                  nan,           nan],\n",
      "       [          nan,           nan,           nan, ...,           nan,\n",
      "                  nan,           nan]], dtype=float32)\n",
      "Coordinates:\n",
      "  * yt_ocean  (yt_ocean) float64 -69.99 -69.88 -69.78 ... 19.49 19.72 19.96\n",
      "    xt_ocean  float64 -212.9\n",
      "  * sw_ocean  (sw_ocean) float64 2.303 4.994 8.136 ... 5.144e+03 5.363e+03\n",
      "<xarray.DataArray 'eta_t' (yt_ocean: 475)>\n",
      "array([     nan,      nan,      nan, ..., 0.847578, 0.846441, 0.844192],\n",
      "      dtype=float32)\n",
      "Coordinates:\n",
      "    xt_ocean  float64 -212.9\n",
      "  * yt_ocean  (yt_ocean) float64 -69.99 -69.88 -69.78 ... 19.49 19.72 19.96\n",
      "<xarray.DataArray 'mld' (yt_ocean: 475)>\n",
      "array([      nan,       nan,       nan, ..., 36.934364, 37.037422, 36.81407 ],\n",
      "      dtype=float32)\n",
      "Coordinates:\n",
      "    xt_ocean  float64 -212.9\n",
      "  * yt_ocean  (yt_ocean) float64 -69.99 -69.88 -69.78 ... 19.49 19.72 19.96\n",
      "<xarray.DataArray 'prrn' (latitude: 161)>\n",
      "array([4.748367e-09, 4.047696e-09, 8.878576e-09, 5.230347e-08, 1.852721e-07,\n",
      "       4.626241e-07, 8.789435e-07, 1.556779e-06, 2.716093e-06, 4.573224e-06,\n",
      "       6.783278e-06, 9.086123e-06, 1.112492e-05, 1.311539e-05, 1.532125e-05,\n",
      "       1.742067e-05, 1.949145e-05, 2.121099e-05, 2.289148e-05, 2.408965e-05,\n",
      "       2.520337e-05, 2.605856e-05, 2.675917e-05, 2.729885e-05, 2.779113e-05,\n",
      "       2.843006e-05, 2.927320e-05, 2.996386e-05, 3.067128e-05, 3.111105e-05,\n",
      "       3.160032e-05, 3.205171e-05, 3.221413e-05, 3.217886e-05, 3.206589e-05,\n",
      "       3.193364e-05, 3.173651e-05, 3.142217e-05, 3.108117e-05, 3.115166e-05,\n",
      "       3.131749e-05, 3.156417e-05, 3.233236e-05, 3.350449e-05, 3.459693e-05,\n",
      "       3.575581e-05, 3.660268e-05, 3.699658e-05, 3.785671e-05, 3.729106e-05,\n",
      "       3.756994e-05, 3.709695e-05, 3.579253e-05, 3.365493e-05, 3.200698e-05,\n",
      "       3.038017e-05, 2.949691e-05, 2.891292e-05, 2.804300e-05, 2.704897e-05,\n",
      "       2.580057e-05, 2.442398e-05, 2.298944e-05, 2.148973e-05, 1.992161e-05,\n",
      "       1.846396e-05, 1.823441e-05, 1.817251e-05, 1.820427e-05, 1.806782e-05,\n",
      "       1.791170e-05, 1.771749e-05, 1.753821e-05, 1.788831e-05, 1.855067e-05,\n",
      "       1.899853e-05, 1.987067e-05, 2.043471e-05, 2.075056e-05, 2.141045e-05,\n",
      "       2.194437e-05, 2.265636e-05, 2.358783e-05, 2.523636e-05, 2.704549e-05,\n",
      "       2.808578e-05, 2.986158e-05, 3.211756e-05, 3.427936e-05, 3.688499e-05,\n",
      "       3.960331e-05, 4.219930e-05, 4.483875e-05, 4.742204e-05, 4.991480e-05,\n",
      "       5.248334e-05, 5.302328e-05, 5.041674e-05, 4.771009e-05, 4.570953e-05,\n",
      "       4.470360e-05, 4.370225e-05, 4.230100e-05, 4.351606e-05, 4.630514e-05,\n",
      "       4.842403e-05, 5.145208e-05, 5.900733e-05, 6.625145e-05, 7.385482e-05,\n",
      "       7.902512e-05, 8.302659e-05, 8.620990e-05, 8.659130e-05, 8.208045e-05,\n",
      "       9.115992e-05, 9.711609e-05, 9.974684e-05, 1.016329e-04, 1.036597e-04,\n",
      "       1.049743e-04, 1.055671e-04, 1.058402e-04, 1.070310e-04, 1.073333e-04,\n",
      "       1.086283e-04, 1.105150e-04, 1.132703e-04, 1.162558e-04, 1.197031e-04,\n",
      "       1.220529e-04, 1.230409e-04, 1.242742e-04, 1.256554e-04, 1.235890e-04,\n",
      "       1.212722e-04, 1.188297e-04, 1.139069e-04, 1.078807e-04, 1.017661e-04,\n",
      "       9.606662e-05, 9.020834e-05, 8.413006e-05, 7.721572e-05, 7.202201e-05,\n",
      "       6.785244e-05, 6.346357e-05, 5.957259e-05, 5.668487e-05, 5.394691e-05,\n",
      "       5.130492e-05, 4.974510e-05, 4.814251e-05, 4.634079e-05, 4.501334e-05,\n",
      "       4.381025e-05, 4.284213e-05, 4.225479e-05, 4.194121e-05, 4.148956e-05,\n",
      "       4.078927e-05], dtype=float32)\n",
      "Coordinates:\n",
      "  * latitude   (latitude) float64 -69.92 -69.36 -68.8 ... 18.81 19.38 19.94\n",
      "    longitude  float64 146.8\n",
      "<xarray.DataArray 'tas_10m' (latitude: 161)>\n",
      "array([257.61597, 258.2676 , 259.03036, 260.13672, 261.84955, 262.3899 ,\n",
      "       263.0875 , 263.93518, 264.895  , 266.01166, 267.3377 , 268.68906,\n",
      "       269.85947, 270.88687, 271.77814, 272.4614 , 273.00626, 273.49673,\n",
      "       273.89102, 274.16278, 274.42642, 274.66867, 274.91757, 275.16605,\n",
      "       275.4378 , 275.7773 , 276.21472, 276.7421 , 277.33948, 277.94235,\n",
      "       278.53308, 279.11032, 279.66858, 280.18164, 280.6521 , 281.0705 ,\n",
      "       281.46405, 281.85022, 282.2338 , 282.61368, 283.0082 , 283.42468,\n",
      "       283.8543 , 284.26614, 284.65668, 285.00604, 285.2823 , 284.96112,\n",
      "       283.274  , 282.11423, 281.80374, 284.44827, 286.93698, 287.337  ,\n",
      "       287.50403, 287.55096, 287.38925, 286.26303, 283.98483, 284.8318 ,\n",
      "       287.64383, 288.901  , 289.47598, 289.6283 , 289.60312, 289.71384,\n",
      "       290.2425 , 290.74628, 291.31195, 291.90524, 292.7091 , 293.4394 ,\n",
      "       293.99347, 294.41653, 294.6885 , 294.80444, 294.75198, 294.11218,\n",
      "       293.86755, 293.8081 , 293.77405, 294.2076 , 294.75095, 295.4238 ,\n",
      "       296.20145, 296.82925, 297.24835, 297.3124 , 296.9969 , 296.4916 ,\n",
      "       296.55524, 297.5383 , 297.87073, 298.1564 , 298.41962, 298.6602 ,\n",
      "       298.89124, 299.09714, 299.28955, 299.45093, 299.5889 , 299.70575,\n",
      "       299.82132, 299.87262, 299.85522, 299.84808, 299.65433, 299.60895,\n",
      "       299.3435 , 297.28275, 293.86017, 293.44073, 295.6054 , 295.34033,\n",
      "       296.50748, 300.13025, 300.51978, 300.77142, 300.9557 , 301.18692,\n",
      "       301.28024, 301.29852, 301.3905 , 301.41574, 301.38483, 301.3453 ,\n",
      "       301.30283, 301.31213, 301.32446, 301.33768, 301.3398 , 301.34155,\n",
      "       301.3395 , 301.34235, 301.31158, 301.2822 , 301.25128, 301.24268,\n",
      "       301.23233, 301.2305 , 301.2218 , 301.21753, 301.21573, 301.2074 ,\n",
      "       301.19025, 301.15884, 301.1354 , 301.1132 , 301.10114, 301.0868 ,\n",
      "       301.0698 , 301.043  , 301.01172, 300.9684 , 300.90646, 300.8239 ,\n",
      "       300.73425, 300.62854, 300.51505, 300.38977, 300.25754], dtype=float32)\n",
      "Coordinates:\n",
      "  * latitude   (latitude) float64 -69.92 -69.36 -68.8 ... 18.81 19.38 19.94\n",
      "    longitude  float64 146.8\n",
      "<xarray.DataArray 'uas_10m' (latitude: 161)>\n",
      "array([-0.610659, -1.678677, -1.910328, -1.773152, -1.819459, -1.524719,\n",
      "       -1.195209, -1.006684, -0.768341, -0.335315,  0.294684,  0.984904,\n",
      "        1.814645,  2.650099,  3.38559 ,  4.025448,  4.587038,  5.081973,\n",
      "        5.4179  ,  5.612056,  5.798588,  5.917274,  5.997813,  6.010665,\n",
      "        5.995937,  5.969733,  6.021304,  6.166697,  6.627695,  6.84985 ,\n",
      "        6.939919,  6.997111,  7.063444,  7.058241,  6.94927 ,  6.771295,\n",
      "        6.63812 ,  6.528121,  6.396371,  6.251203,  6.093596,  5.971708,\n",
      "        5.943265,  5.841961,  5.719448,  5.573392,  5.430881,  4.85145 ,\n",
      "        1.049396,  0.884492,  0.798931,  0.702721,  3.233539,  3.205766,\n",
      "        3.039717,  2.63396 ,  0.77497 ,  0.546778,  0.427018,  0.114928,\n",
      "        0.07487 ,  0.073633,  0.066623,  0.107476,  0.107215,  0.057883,\n",
      "       -0.033087, -0.088723, -0.12912 , -0.19886 , -0.646631, -0.784717,\n",
      "       -0.880762, -0.902879, -0.915238, -0.940843, -1.015325, -0.493733,\n",
      "       -0.518154, -0.616858, -0.772924, -0.962184, -0.986461, -1.041575,\n",
      "       -1.091011, -1.150265, -2.11974 , -2.049579, -2.316235, -2.395764,\n",
      "       -2.848388, -4.245791, -4.355555, -4.3516  , -4.427594, -4.524702,\n",
      "       -4.642013, -4.639393, -4.679568, -4.677745, -4.613508, -4.625521,\n",
      "       -4.537781, -4.447552, -4.252004, -4.143427, -3.943585, -3.378465,\n",
      "       -1.700748,  0.333834,  0.209858, -0.380025, -0.69872 , -0.756523,\n",
      "       -0.201729, -1.886088, -2.137453, -1.61521 , -1.514074, -1.358596,\n",
      "       -1.365151, -1.215635, -1.187704, -1.17969 , -1.209797, -1.252606,\n",
      "       -1.310102, -1.361124, -1.449065, -1.54569 , -1.662637, -1.814955,\n",
      "       -1.987264, -2.198602, -2.417274, -2.629321, -2.837554, -3.095501,\n",
      "       -3.354779, -3.544282, -3.772474, -3.989055, -4.164032, -4.326378,\n",
      "       -4.482667, -4.625464, -4.752414, -4.873329, -4.981999, -5.046327,\n",
      "       -5.084681, -5.126776, -5.163594, -5.170587, -5.121712, -5.07649 ,\n",
      "       -5.003157, -4.901378, -4.763984, -4.590517, -4.411773], dtype=float32)\n",
      "Coordinates:\n",
      "  * latitude   (latitude) float64 -69.92 -69.36 -68.8 ... 18.81 19.38 19.94\n",
      "    longitude  float64 146.8\n",
      "<xarray.DataArray 'vas_10m' (latitude: 161)>\n",
      "array([ 1.215690e+01,  1.313932e+01,  1.270200e+01,  9.797898e+00,\n",
      "        7.224550e+00,  5.845628e+00,  5.029798e+00,  4.200238e+00,\n",
      "        3.269759e+00,  2.362265e+00,  1.356645e+00,  5.273513e-01,\n",
      "       -1.749477e-01, -6.434136e-01, -1.086767e+00, -1.446468e+00,\n",
      "       -1.715311e+00, -1.924773e+00, -2.221735e+00, -2.452899e+00,\n",
      "       -2.620651e+00, -2.778105e+00, -2.892122e+00, -2.986461e+00,\n",
      "       -3.050414e+00, -3.067038e+00, -2.991644e+00, -2.828842e+00,\n",
      "       -2.630178e+00, -2.444940e+00, -2.251053e+00, -2.095140e+00,\n",
      "       -1.959332e+00, -1.879788e+00, -1.906163e+00, -1.953740e+00,\n",
      "       -1.913799e+00, -1.838993e+00, -1.776660e+00, -1.644755e+00,\n",
      "       -1.471676e+00, -1.269704e+00, -1.111203e+00, -1.008139e+00,\n",
      "       -9.052880e-01, -8.336462e-01, -5.288221e-01, -3.662902e-01,\n",
      "       -5.318685e-01, -5.725620e-01, -5.027871e-01, -3.672436e-01,\n",
      "       -4.351858e-01, -9.502766e-02,  5.005123e-02,  2.007422e-01,\n",
      "       -1.816971e-01, -4.106272e-01, -5.756571e-01, -2.782567e-01,\n",
      "       -1.138002e-01, -1.208489e-01, -9.312995e-02, -9.870350e-02,\n",
      "       -9.511802e-02, -6.905531e-02, -8.638070e-03,  8.484001e-02,\n",
      "        1.698057e-01,  2.550523e-01,  6.528769e-01,  6.715756e-01,\n",
      "        6.562547e-01,  6.374672e-01,  5.821325e-01,  5.026736e-01,\n",
      "        4.223223e-01,  1.509316e-01,  1.378104e-01,  6.406944e-02,\n",
      "        6.047649e-02, -9.758856e-02, -1.035664e-01, -3.659945e-02,\n",
      "       -3.262473e-02,  5.453787e-02,  1.623002e-01, -9.824892e-02,\n",
      "       -4.909541e-01, -4.500418e-01,  2.940388e-01,  1.784857e+00,\n",
      "        2.332030e+00,  2.920907e+00,  3.403876e+00,  3.785702e+00,\n",
      "        3.978451e+00,  4.107282e+00,  4.139498e+00,  4.132123e+00,\n",
      "        4.024608e+00,  3.894006e+00,  3.783503e+00,  3.690333e+00,\n",
      "        3.622266e+00,  3.564484e+00,  3.639708e+00,  3.958055e+00,\n",
      "        3.824035e+00,  9.665402e-01,  5.544276e-02, -3.662788e-02,\n",
      "        5.629350e-01,  6.730499e-01,  2.804661e-01, -2.961490e-01,\n",
      "        9.692716e-01,  1.137739e+00,  1.110448e+00,  9.772129e-01,\n",
      "        8.174726e-01,  7.435854e-01,  6.077737e-01,  4.932407e-01,\n",
      "        3.663941e-01,  2.495088e-01,  1.767671e-01,  9.207392e-02,\n",
      "       -3.807524e-02, -1.493955e-01, -2.281281e-01, -3.026112e-01,\n",
      "       -3.845376e-01, -4.324894e-01, -5.275374e-01, -6.268292e-01,\n",
      "       -7.260744e-01, -7.882316e-01, -8.608484e-01, -9.307112e-01,\n",
      "       -9.617604e-01, -9.950962e-01, -1.015246e+00, -1.046689e+00,\n",
      "       -1.052433e+00, -1.029140e+00, -1.035256e+00, -1.008238e+00,\n",
      "       -1.023492e+00, -1.019288e+00, -1.030477e+00, -1.014489e+00,\n",
      "       -1.034938e+00, -1.021484e+00, -9.978938e-01, -9.766353e-01,\n",
      "       -9.538481e-01, -9.295568e-01, -8.741123e-01, -8.047544e-01,\n",
      "       -7.517191e-01], dtype=float32)\n",
      "Coordinates:\n",
      "  * latitude   (latitude) float64 -69.92 -69.36 -68.8 ... 18.81 19.38 19.94\n",
      "    longitude  float64 146.8\n",
      "<xarray.DataArray 'psl' (latitude: 161)>\n",
      "array([ 99912.92,  99509.55,  99120.63,  98893.38,  98789.5 ,  98706.51,\n",
      "        98645.27,  98587.97,  98541.45,  98498.69,  98472.53,  98462.41,\n",
      "        98469.08,  98493.  ,  98534.06,  98586.91,  98653.37,  98727.45,\n",
      "        98810.17,  98898.86,  98993.55,  99091.43,  99193.76,  99297.4 ,\n",
      "        99403.63,  99509.59,  99617.02,  99723.05,  99829.28,  99932.75,\n",
      "       100035.32, 100135.9 , 100234.14, 100330.57, 100425.07, 100517.41,\n",
      "       100607.45, 100695.62, 100780.34, 100863.29, 100941.57, 101018.04,\n",
      "       101089.32, 101158.24, 101222.25, 101283.45, 101336.31, 101380.51,\n",
      "       101424.56, 101465.16, 101516.5 , 101533.22, 101565.91, 101594.4 ,\n",
      "       101623.65, 101652.66, 101671.12, 101683.13, 101723.02, 101721.42,\n",
      "       101701.94, 101693.81, 101692.94, 101689.46, 101688.29, 101687.08,\n",
      "       101683.91, 101677.23, 101669.94, 101657.21, 101644.36, 101629.2 ,\n",
      "       101614.65, 101597.23, 101581.57, 101564.29, 101549.12, 101533.96,\n",
      "       101518.51, 101496.66, 101482.01, 101469.66, 101455.87, 101440.49,\n",
      "       101422.67, 101407.49, 101388.8 , 101374.87, 101367.98, 101372.23,\n",
      "       101371.43, 101356.32, 101333.67, 101305.  , 101277.24, 101243.42,\n",
      "       101216.3 , 101185.87, 101160.1 , 101131.17, 101110.09, 101083.14,\n",
      "       101064.91, 101041.51, 101023.66, 101004.02, 100983.55, 100958.16,\n",
      "       100932.18, 100879.68, 100926.82, 100953.58, 100912.8 , 100892.91,\n",
      "       100873.28, 100875.72, 100887.33, 100893.53, 100890.11, 100895.08,\n",
      "       100888.88, 100889.31, 100885.42, 100887.08, 100883.38, 100885.11,\n",
      "       100881.34, 100884.99, 100881.41, 100885.24, 100882.79, 100886.68,\n",
      "       100885.74, 100890.13, 100890.1 , 100895.78, 100898.03, 100904.46,\n",
      "       100909.13, 100917.46, 100923.89, 100933.87, 100943.77, 100954.8 ,\n",
      "       100967.1 , 100979.36, 100994.71, 101008.96, 101025.23, 101040.99,\n",
      "       101060.41, 101077.62, 101098.42, 101116.59, 101138.59, 101159.71,\n",
      "       101181.9 , 101204.08, 101226.46, 101249.62, 101270.9 ], dtype=float32)\n",
      "Coordinates:\n",
      "  * latitude   (latitude) float64 -69.92 -69.36 -68.8 ... 18.81 19.38 19.94\n",
      "    longitude  float64 146.8\n"
     ]
    }
   ],
   "source": [
    "temp_mean = temp.mean(dim='year')\n",
    "print(temp_mean)\n",
    "temp_anom = temp - temp_mean\n",
    "\n",
    "salt_mean = salt.mean(dim='year')\n",
    "print(salt_mean)\n",
    "salt_anom = salt - salt_mean\n",
    "\n",
    "u_mean = u.mean(dim='year')\n",
    "print(u_mean)\n",
    "u_anom = u - u_mean\n",
    "\n",
    "v_mean = v.mean(dim='year')\n",
    "print(v_mean)\n",
    "v_anom = v - v_mean\n",
    "\n",
    "wt_mean = wt.mean(dim='year')\n",
    "print(wt_mean)\n",
    "wt_anom = wt - wt_mean\n",
    "\n",
    "eta_t_mean = eta_t.mean(dim='year')\n",
    "print(eta_t_mean)\n",
    "eta_t_anom = eta_t - eta_t_mean\n",
    "\n",
    "mld_mean = mld.mean(dim='year')\n",
    "print(mld_mean)\n",
    "mld_anom = mld - mld_mean\n",
    "\n",
    "rain_mean = rain.mean(dim='year')\n",
    "print(rain_mean)\n",
    "rain_anom = rain - rain_mean\n",
    "\n",
    "t_10_mean = t_10.mean(dim='year')\n",
    "print(t_10_mean)\n",
    "t_10_anom = t_10 - t_10_mean\n",
    "\n",
    "u_10_mean = u_10.mean(dim='year')\n",
    "print(u_10_mean)\n",
    "u_10_anom = u_10 - u_10_mean\n",
    "\n",
    "v_10_mean = v_10.mean(dim='year')\n",
    "print(v_10_mean)\n",
    "v_10_anom = v_10 - v_10_mean\n",
    "\n",
    "slp_mean = slp.mean(dim='year')\n",
    "print(slp_mean)\n",
    "slp_anom = slp - slp_mean"
   ]
  },
  {
   "cell_type": "code",
   "execution_count": 91,
   "metadata": {},
   "outputs": [
    {
     "name": "stdout",
     "output_type": "stream",
     "text": [
      "st_ocean 1.15174989182586\n",
      "st_ocean 3.6486741197120196\n",
      "st_ocean 6.564918471676153\n",
      "st_ocean 9.970869194872916\n",
      "st_ocean 13.948708373749158\n",
      "st_ocean 18.594379460593196\n",
      "st_ocean 24.019873617545198\n",
      "st_ocean 30.355885242559452\n",
      "st_ocean 37.754889932903495\n",
      "st_ocean 46.39470194845016\n",
      "st_ocean 56.48256969937929\n",
      "st_ocean 68.25986482598941\n",
      "st_ocean 82.00740970018322\n",
      "st_ocean 98.05146439730592\n",
      "st_ocean 116.77034928747688\n",
      "st_ocean 138.60160118643546\n",
      "st_ocean 164.04943216631892\n",
      "st_ocean 193.69205664349184\n",
      "st_ocean 228.1881444592732\n",
      "st_ocean 268.2812141854562\n",
      "st_ocean 314.800181990729\n",
      "st_ocean 368.65354740782504\n",
      "st_ocean 430.8139438640983\n",
      "st_ocean 502.28929308570173\n",
      "st_ocean 584.0771003035616\n",
      "st_ocean 677.1002526914099\n",
      "st_ocean 782.1267221440287\n",
      "st_ocean 899.6817765561261\n",
      "st_ocean 1029.9681126743835\n",
      "st_ocean 1172.813371535859\n",
      "st_ocean 1327.6620295174746\n",
      "st_ocean 1493.618454761941\n",
      "st_ocean 1669.533396965427\n",
      "st_ocean 1854.1141182462907\n",
      "st_ocean 2046.0343763841533\n",
      "st_ocean 2244.0251574257236\n",
      "st_ocean 2446.9365172557336\n",
      "st_ocean 2653.770122843055\n",
      "st_ocean 2863.6879826301465\n",
      "st_ocean 3076.004985169572\n",
      "st_ocean 3290.172352043021\n",
      "st_ocean 3505.757391937\n",
      "st_ocean 3722.423048762676\n",
      "st_ocean 3939.909178464534\n",
      "st_ocean 4158.016403756035\n",
      "st_ocean 4376.592730747992\n",
      "st_ocean 4595.522753179381\n",
      "st_ocean 4814.719110715554\n",
      "st_ocean 5034.115824326519\n",
      "st_ocean 5253.663148942374\n",
      "<xarray.DataArray 'temp' (y: 50, x: 475)>\n",
      "array([[     nan,      nan,      nan, ..., 0.010488, 0.01022 , 0.010403],\n",
      "       [     nan,      nan,      nan, ..., 0.010575, 0.010289, 0.010458],\n",
      "       [     nan,      nan,      nan, ..., 0.010608, 0.01031 , 0.010509],\n",
      "       ...,\n",
      "       [     nan,      nan,      nan, ...,      nan,      nan,      nan],\n",
      "       [     nan,      nan,      nan, ...,      nan,      nan,      nan],\n",
      "       [     nan,      nan,      nan, ...,      nan,      nan,      nan]])\n",
      "Coordinates:\n",
      "  * y        (y) float64 1.152 3.649 6.565 ... 4.815e+03 5.034e+03 5.254e+03\n",
      "  * x        (x) float64 -69.99 -69.88 -69.78 -69.67 ... 19.25 19.49 19.72 19.96\n",
      "<xarray.DataArray 'mld' (x: 475)>\n",
      "array([      nan,       nan,       nan, ...,  0.018106, -0.000999,  0.012479])\n",
      "Coordinates:\n",
      "  * x        (x) float64 -69.99 -69.88 -69.78 -69.67 ... 19.25 19.49 19.72 19.96\n"
     ]
    }
   ],
   "source": [
    "x = temp.yt_ocean\n",
    "y = temp.st_ocean\n",
    "temp_slopes = xr.DataArray(np.zeros([y.shape[0], x.shape[0]]), dims=(\n",
    "    'y', 'x'), coords=[y, x], name='temp')\n",
    "for iid, i in enumerate(y):\n",
    "    for jid, j in enumerate(x):\n",
    "        temp_slopes[iid, jid], _, _, _, _ = \\\n",
    "        stats.linregress(years, temp[:, iid, jid])\n",
    "    print('st_ocean ' + str(np.array(i)))\n",
    "print(temp_slopes)\n",
    "\n",
    "# salt_slopes = xr.DataArray(np.zeros([y.shape[0], x.shape[0]]), dims=(\n",
    "#     'y', 'x'), coords=[y, x], name='salt')\n",
    "# for iid, i in enumerate(y):\n",
    "#     for jid, j in enumerate(x):\n",
    "#         salt_slopes[iid, jid], _, _, _, _ = \\\n",
    "#         stats.linregress(years, salt[:, iid, jid])\n",
    "#     print('st_ocean ' + str(np.array(i)))\n",
    "# print(salt_slopes)\n",
    "\n",
    "# wt_slopes = xr.DataArray(np.zeros([y.shape[0], x.shape[0]]), dims=(\n",
    "#     'y', 'x'), coords=[y, x], name='wt')\n",
    "# for iid, i in enumerate(y):\n",
    "#     for jid, j in enumerate(x):\n",
    "#         wt_slopes[iid, jid], _, _, _, _ = \\\n",
    "#         stats.linregress(years, wt[:, iid, jid])\n",
    "#     print('st_ocean ' + str(np.array(i)))\n",
    "# print(wt_slopes) \n",
    "\n",
    "# eta_t_slopes = xr.DataArray(np.zeros([x.shape[0]]), dims=(\n",
    "#     'x'), coords=[x], name='eta_t')\n",
    "# for jid, i in enumerate(x):\n",
    "#     eta_t_slopes[jid], _, _, _, _ = \\\n",
    "#     stats.linregress(years, eta_t[:, jid])\n",
    "# print(eta_t_slopes) \n",
    "\n",
    "mld_slopes = xr.DataArray(np.zeros([x.shape[0]]), dims=(\n",
    "    'x'), coords=[x], name='mld')\n",
    "for jid, i in enumerate(x):\n",
    "    mld_slopes[jid], _, _, _, _ = \\\n",
    "    stats.linregress(years, mld[:, jid])\n",
    "print(mld_slopes) \n",
    "\n",
    "# x = u.yu_ocean\n",
    "# u_slopes = xr.DataArray(np.zeros([y.shape[0], x.shape[0]]), dims=(\n",
    "#     'y', 'x'), coords=[y, x], name='u')\n",
    "# for iid, i in enumerate(y):\n",
    "#     for jid, j in enumerate(x):\n",
    "#         u_slopes[iid, jid], _, _, _, _ = \\\n",
    "#         stats.linregress(years, u[:, iid, jid])\n",
    "#     print('st_ocean ' + str(np.array(i)))\n",
    "# print(u_slopes) \n",
    "\n",
    "# v_slopes = xr.DataArray(np.zeros([y.shape[0], x.shape[0]]), dims=(\n",
    "#     'y', 'x'), coords=[y, x], name='v')\n",
    "# for iid, i in enumerate(y):\n",
    "#     for jid, j in enumerate(x):\n",
    "#         v_slopes[iid, jid], _, _, _, _ = \\\n",
    "#         stats.linregress(years, v[:, iid, jid])\n",
    "#     print('st_ocean ' + str(np.array(i)))\n",
    "# print(v_slopes) \n",
    "\n",
    "# x = t_10.latitude\n",
    "# t_10_slopes = xr.DataArray(np.zeros([x.shape[0]]), dims=(\n",
    "#     'x'), coords=[x], name='t_10')\n",
    "# for jid, i in enumerate(x):\n",
    "#     t_10_slopes[jid], _, _, _, _ = \\\n",
    "#     stats.linregress(years, t_10[:, jid])\n",
    "# print(t_10_slopes)\n",
    "\n",
    "# rain_slopes = xr.DataArray(np.zeros([x.shape[0]]), dims=(\n",
    "#     'x'), coords=[x], name='rain')\n",
    "# for jid, i in enumerate(x):\n",
    "#     rain_slopes[jid], _, _, _, _ = \\\n",
    "#     stats.linregress(years, rain[:, jid])\n",
    "# print(rain_slopes)\n",
    "\n",
    "# slp_slopes = xr.DataArray(np.zeros([x.shape[0]]), dims=(\n",
    "#     'x'), coords=[x], name='slp')\n",
    "# for jid, i in enumerate(x):\n",
    "#     slp_slopes[jid], _, _, _, _ = \\\n",
    "#     stats.linregress(years, slp[:, jid])\n",
    "# print(slp_slopes)\n",
    "\n",
    "# u_10_slopes = xr.DataArray(np.zeros([x.shape[0]]), dims=(\n",
    "#     'x'), coords=[x], name='u_10')\n",
    "# for jid, i in enumerate(x):\n",
    "#     u_10_slopes[jid], _, _, _, _ = \\\n",
    "#     stats.linregress(years, u_10[:, jid])\n",
    "# print(u_10_slopes)\n",
    "\n",
    "# v_10_slopes = xr.DataArray(np.zeros([x.shape[0]]), dims=(\n",
    "#     'x'), coords=[x], name='v_10')\n",
    "# for jid, i in enumerate(x):\n",
    "#     v_10_slopes[jid], _, _, _, _ = \\\n",
    "#     stats.linregress(years, v_10[:, jid])\n",
    "# print(v_10_slopes)"
   ]
  },
  {
   "cell_type": "code",
   "execution_count": 110,
   "metadata": {},
   "outputs": [
    {
     "name": "stdout",
     "output_type": "stream",
     "text": [
      "1993 OK\n"
     ]
    },
    {
     "name": "stderr",
     "output_type": "stream",
     "text": [
      "/g/data3/hh5/public/apps/miniconda3/envs/analysis3-18.10/lib/python3.6/site-packages/matplotlib/figure.py:98: MatplotlibDeprecationWarning: \n",
      "Adding an axes using the same arguments as a previous axes currently reuses the earlier instance.  In a future version, a new instance will always be created and returned.  Meanwhile, this warning can be suppressed, and the future behavior ensured, by passing a unique label to each axes instance.\n",
      "  \"Adding an axes using the same arguments as a previous axes \"\n"
     ]
    },
    {
     "name": "stdout",
     "output_type": "stream",
     "text": [
      "1994 OK\n"
     ]
    },
    {
     "name": "stderr",
     "output_type": "stream",
     "text": [
      "/g/data3/hh5/public/apps/miniconda3/envs/analysis3-18.10/lib/python3.6/site-packages/matplotlib/figure.py:98: MatplotlibDeprecationWarning: \n",
      "Adding an axes using the same arguments as a previous axes currently reuses the earlier instance.  In a future version, a new instance will always be created and returned.  Meanwhile, this warning can be suppressed, and the future behavior ensured, by passing a unique label to each axes instance.\n",
      "  \"Adding an axes using the same arguments as a previous axes \"\n"
     ]
    },
    {
     "name": "stdout",
     "output_type": "stream",
     "text": [
      "1995 OK\n"
     ]
    },
    {
     "name": "stderr",
     "output_type": "stream",
     "text": [
      "/g/data3/hh5/public/apps/miniconda3/envs/analysis3-18.10/lib/python3.6/site-packages/matplotlib/figure.py:98: MatplotlibDeprecationWarning: \n",
      "Adding an axes using the same arguments as a previous axes currently reuses the earlier instance.  In a future version, a new instance will always be created and returned.  Meanwhile, this warning can be suppressed, and the future behavior ensured, by passing a unique label to each axes instance.\n",
      "  \"Adding an axes using the same arguments as a previous axes \"\n"
     ]
    },
    {
     "name": "stdout",
     "output_type": "stream",
     "text": [
      "1996 OK\n"
     ]
    },
    {
     "name": "stderr",
     "output_type": "stream",
     "text": [
      "/g/data3/hh5/public/apps/miniconda3/envs/analysis3-18.10/lib/python3.6/site-packages/matplotlib/figure.py:98: MatplotlibDeprecationWarning: \n",
      "Adding an axes using the same arguments as a previous axes currently reuses the earlier instance.  In a future version, a new instance will always be created and returned.  Meanwhile, this warning can be suppressed, and the future behavior ensured, by passing a unique label to each axes instance.\n",
      "  \"Adding an axes using the same arguments as a previous axes \"\n"
     ]
    },
    {
     "name": "stdout",
     "output_type": "stream",
     "text": [
      "1997 OK\n"
     ]
    },
    {
     "name": "stderr",
     "output_type": "stream",
     "text": [
      "/g/data3/hh5/public/apps/miniconda3/envs/analysis3-18.10/lib/python3.6/site-packages/matplotlib/figure.py:98: MatplotlibDeprecationWarning: \n",
      "Adding an axes using the same arguments as a previous axes currently reuses the earlier instance.  In a future version, a new instance will always be created and returned.  Meanwhile, this warning can be suppressed, and the future behavior ensured, by passing a unique label to each axes instance.\n",
      "  \"Adding an axes using the same arguments as a previous axes \"\n"
     ]
    },
    {
     "name": "stdout",
     "output_type": "stream",
     "text": [
      "1998 OK\n"
     ]
    },
    {
     "name": "stderr",
     "output_type": "stream",
     "text": [
      "/g/data3/hh5/public/apps/miniconda3/envs/analysis3-18.10/lib/python3.6/site-packages/matplotlib/figure.py:98: MatplotlibDeprecationWarning: \n",
      "Adding an axes using the same arguments as a previous axes currently reuses the earlier instance.  In a future version, a new instance will always be created and returned.  Meanwhile, this warning can be suppressed, and the future behavior ensured, by passing a unique label to each axes instance.\n",
      "  \"Adding an axes using the same arguments as a previous axes \"\n"
     ]
    },
    {
     "name": "stdout",
     "output_type": "stream",
     "text": [
      "1999 OK\n"
     ]
    },
    {
     "name": "stderr",
     "output_type": "stream",
     "text": [
      "/g/data3/hh5/public/apps/miniconda3/envs/analysis3-18.10/lib/python3.6/site-packages/matplotlib/figure.py:98: MatplotlibDeprecationWarning: \n",
      "Adding an axes using the same arguments as a previous axes currently reuses the earlier instance.  In a future version, a new instance will always be created and returned.  Meanwhile, this warning can be suppressed, and the future behavior ensured, by passing a unique label to each axes instance.\n",
      "  \"Adding an axes using the same arguments as a previous axes \"\n"
     ]
    },
    {
     "name": "stdout",
     "output_type": "stream",
     "text": [
      "2000 OK\n"
     ]
    },
    {
     "name": "stderr",
     "output_type": "stream",
     "text": [
      "/g/data3/hh5/public/apps/miniconda3/envs/analysis3-18.10/lib/python3.6/site-packages/matplotlib/figure.py:98: MatplotlibDeprecationWarning: \n",
      "Adding an axes using the same arguments as a previous axes currently reuses the earlier instance.  In a future version, a new instance will always be created and returned.  Meanwhile, this warning can be suppressed, and the future behavior ensured, by passing a unique label to each axes instance.\n",
      "  \"Adding an axes using the same arguments as a previous axes \"\n"
     ]
    },
    {
     "name": "stdout",
     "output_type": "stream",
     "text": [
      "2001 OK\n"
     ]
    },
    {
     "name": "stderr",
     "output_type": "stream",
     "text": [
      "/g/data3/hh5/public/apps/miniconda3/envs/analysis3-18.10/lib/python3.6/site-packages/matplotlib/figure.py:98: MatplotlibDeprecationWarning: \n",
      "Adding an axes using the same arguments as a previous axes currently reuses the earlier instance.  In a future version, a new instance will always be created and returned.  Meanwhile, this warning can be suppressed, and the future behavior ensured, by passing a unique label to each axes instance.\n",
      "  \"Adding an axes using the same arguments as a previous axes \"\n"
     ]
    },
    {
     "name": "stdout",
     "output_type": "stream",
     "text": [
      "2002 OK\n"
     ]
    },
    {
     "name": "stderr",
     "output_type": "stream",
     "text": [
      "/g/data3/hh5/public/apps/miniconda3/envs/analysis3-18.10/lib/python3.6/site-packages/matplotlib/figure.py:98: MatplotlibDeprecationWarning: \n",
      "Adding an axes using the same arguments as a previous axes currently reuses the earlier instance.  In a future version, a new instance will always be created and returned.  Meanwhile, this warning can be suppressed, and the future behavior ensured, by passing a unique label to each axes instance.\n",
      "  \"Adding an axes using the same arguments as a previous axes \"\n"
     ]
    },
    {
     "name": "stdout",
     "output_type": "stream",
     "text": [
      "2003 OK\n"
     ]
    },
    {
     "name": "stderr",
     "output_type": "stream",
     "text": [
      "/g/data3/hh5/public/apps/miniconda3/envs/analysis3-18.10/lib/python3.6/site-packages/matplotlib/figure.py:98: MatplotlibDeprecationWarning: \n",
      "Adding an axes using the same arguments as a previous axes currently reuses the earlier instance.  In a future version, a new instance will always be created and returned.  Meanwhile, this warning can be suppressed, and the future behavior ensured, by passing a unique label to each axes instance.\n",
      "  \"Adding an axes using the same arguments as a previous axes \"\n"
     ]
    },
    {
     "name": "stdout",
     "output_type": "stream",
     "text": [
      "2004 OK\n"
     ]
    },
    {
     "name": "stderr",
     "output_type": "stream",
     "text": [
      "/g/data3/hh5/public/apps/miniconda3/envs/analysis3-18.10/lib/python3.6/site-packages/matplotlib/figure.py:98: MatplotlibDeprecationWarning: \n",
      "Adding an axes using the same arguments as a previous axes currently reuses the earlier instance.  In a future version, a new instance will always be created and returned.  Meanwhile, this warning can be suppressed, and the future behavior ensured, by passing a unique label to each axes instance.\n",
      "  \"Adding an axes using the same arguments as a previous axes \"\n"
     ]
    },
    {
     "name": "stdout",
     "output_type": "stream",
     "text": [
      "2005 OK\n"
     ]
    },
    {
     "name": "stderr",
     "output_type": "stream",
     "text": [
      "/g/data3/hh5/public/apps/miniconda3/envs/analysis3-18.10/lib/python3.6/site-packages/matplotlib/figure.py:98: MatplotlibDeprecationWarning: \n",
      "Adding an axes using the same arguments as a previous axes currently reuses the earlier instance.  In a future version, a new instance will always be created and returned.  Meanwhile, this warning can be suppressed, and the future behavior ensured, by passing a unique label to each axes instance.\n",
      "  \"Adding an axes using the same arguments as a previous axes \"\n"
     ]
    },
    {
     "name": "stdout",
     "output_type": "stream",
     "text": [
      "2006 OK\n"
     ]
    },
    {
     "name": "stderr",
     "output_type": "stream",
     "text": [
      "/g/data3/hh5/public/apps/miniconda3/envs/analysis3-18.10/lib/python3.6/site-packages/matplotlib/figure.py:98: MatplotlibDeprecationWarning: \n",
      "Adding an axes using the same arguments as a previous axes currently reuses the earlier instance.  In a future version, a new instance will always be created and returned.  Meanwhile, this warning can be suppressed, and the future behavior ensured, by passing a unique label to each axes instance.\n",
      "  \"Adding an axes using the same arguments as a previous axes \"\n"
     ]
    },
    {
     "name": "stdout",
     "output_type": "stream",
     "text": [
      "2007 OK\n"
     ]
    },
    {
     "name": "stderr",
     "output_type": "stream",
     "text": [
      "/g/data3/hh5/public/apps/miniconda3/envs/analysis3-18.10/lib/python3.6/site-packages/matplotlib/figure.py:98: MatplotlibDeprecationWarning: \n",
      "Adding an axes using the same arguments as a previous axes currently reuses the earlier instance.  In a future version, a new instance will always be created and returned.  Meanwhile, this warning can be suppressed, and the future behavior ensured, by passing a unique label to each axes instance.\n",
      "  \"Adding an axes using the same arguments as a previous axes \"\n"
     ]
    },
    {
     "name": "stdout",
     "output_type": "stream",
     "text": [
      "2008 OK\n"
     ]
    },
    {
     "name": "stderr",
     "output_type": "stream",
     "text": [
      "/g/data3/hh5/public/apps/miniconda3/envs/analysis3-18.10/lib/python3.6/site-packages/matplotlib/figure.py:98: MatplotlibDeprecationWarning: \n",
      "Adding an axes using the same arguments as a previous axes currently reuses the earlier instance.  In a future version, a new instance will always be created and returned.  Meanwhile, this warning can be suppressed, and the future behavior ensured, by passing a unique label to each axes instance.\n",
      "  \"Adding an axes using the same arguments as a previous axes \"\n"
     ]
    },
    {
     "name": "stdout",
     "output_type": "stream",
     "text": [
      "2009 OK\n"
     ]
    },
    {
     "name": "stderr",
     "output_type": "stream",
     "text": [
      "/g/data3/hh5/public/apps/miniconda3/envs/analysis3-18.10/lib/python3.6/site-packages/matplotlib/figure.py:98: MatplotlibDeprecationWarning: \n",
      "Adding an axes using the same arguments as a previous axes currently reuses the earlier instance.  In a future version, a new instance will always be created and returned.  Meanwhile, this warning can be suppressed, and the future behavior ensured, by passing a unique label to each axes instance.\n",
      "  \"Adding an axes using the same arguments as a previous axes \"\n"
     ]
    },
    {
     "name": "stdout",
     "output_type": "stream",
     "text": [
      "2010 OK\n"
     ]
    },
    {
     "name": "stderr",
     "output_type": "stream",
     "text": [
      "/g/data3/hh5/public/apps/miniconda3/envs/analysis3-18.10/lib/python3.6/site-packages/matplotlib/figure.py:98: MatplotlibDeprecationWarning: \n",
      "Adding an axes using the same arguments as a previous axes currently reuses the earlier instance.  In a future version, a new instance will always be created and returned.  Meanwhile, this warning can be suppressed, and the future behavior ensured, by passing a unique label to each axes instance.\n",
      "  \"Adding an axes using the same arguments as a previous axes \"\n"
     ]
    },
    {
     "name": "stdout",
     "output_type": "stream",
     "text": [
      "2011 OK\n"
     ]
    },
    {
     "name": "stderr",
     "output_type": "stream",
     "text": [
      "/g/data3/hh5/public/apps/miniconda3/envs/analysis3-18.10/lib/python3.6/site-packages/matplotlib/figure.py:98: MatplotlibDeprecationWarning: \n",
      "Adding an axes using the same arguments as a previous axes currently reuses the earlier instance.  In a future version, a new instance will always be created and returned.  Meanwhile, this warning can be suppressed, and the future behavior ensured, by passing a unique label to each axes instance.\n",
      "  \"Adding an axes using the same arguments as a previous axes \"\n"
     ]
    },
    {
     "name": "stdout",
     "output_type": "stream",
     "text": [
      "2012 OK\n"
     ]
    },
    {
     "name": "stderr",
     "output_type": "stream",
     "text": [
      "/g/data3/hh5/public/apps/miniconda3/envs/analysis3-18.10/lib/python3.6/site-packages/matplotlib/figure.py:98: MatplotlibDeprecationWarning: \n",
      "Adding an axes using the same arguments as a previous axes currently reuses the earlier instance.  In a future version, a new instance will always be created and returned.  Meanwhile, this warning can be suppressed, and the future behavior ensured, by passing a unique label to each axes instance.\n",
      "  \"Adding an axes using the same arguments as a previous axes \"\n"
     ]
    },
    {
     "name": "stdout",
     "output_type": "stream",
     "text": [
      "2013 OK\n"
     ]
    },
    {
     "name": "stderr",
     "output_type": "stream",
     "text": [
      "/g/data3/hh5/public/apps/miniconda3/envs/analysis3-18.10/lib/python3.6/site-packages/matplotlib/figure.py:98: MatplotlibDeprecationWarning: \n",
      "Adding an axes using the same arguments as a previous axes currently reuses the earlier instance.  In a future version, a new instance will always be created and returned.  Meanwhile, this warning can be suppressed, and the future behavior ensured, by passing a unique label to each axes instance.\n",
      "  \"Adding an axes using the same arguments as a previous axes \"\n"
     ]
    },
    {
     "name": "stdout",
     "output_type": "stream",
     "text": [
      "2014 OK\n"
     ]
    },
    {
     "name": "stderr",
     "output_type": "stream",
     "text": [
      "/g/data3/hh5/public/apps/miniconda3/envs/analysis3-18.10/lib/python3.6/site-packages/matplotlib/figure.py:98: MatplotlibDeprecationWarning: \n",
      "Adding an axes using the same arguments as a previous axes currently reuses the earlier instance.  In a future version, a new instance will always be created and returned.  Meanwhile, this warning can be suppressed, and the future behavior ensured, by passing a unique label to each axes instance.\n",
      "  \"Adding an axes using the same arguments as a previous axes \"\n"
     ]
    },
    {
     "name": "stdout",
     "output_type": "stream",
     "text": [
      "2015 OK\n"
     ]
    },
    {
     "name": "stderr",
     "output_type": "stream",
     "text": [
      "/g/data3/hh5/public/apps/miniconda3/envs/analysis3-18.10/lib/python3.6/site-packages/matplotlib/figure.py:98: MatplotlibDeprecationWarning: \n",
      "Adding an axes using the same arguments as a previous axes currently reuses the earlier instance.  In a future version, a new instance will always be created and returned.  Meanwhile, this warning can be suppressed, and the future behavior ensured, by passing a unique label to each axes instance.\n",
      "  \"Adding an axes using the same arguments as a previous axes \"\n"
     ]
    },
    {
     "name": "stdout",
     "output_type": "stream",
     "text": [
      "2016 OK\n"
     ]
    },
    {
     "name": "stderr",
     "output_type": "stream",
     "text": [
      "/g/data3/hh5/public/apps/miniconda3/envs/analysis3-18.10/lib/python3.6/site-packages/matplotlib/figure.py:98: MatplotlibDeprecationWarning: \n",
      "Adding an axes using the same arguments as a previous axes currently reuses the earlier instance.  In a future version, a new instance will always be created and returned.  Meanwhile, this warning can be suppressed, and the future behavior ensured, by passing a unique label to each axes instance.\n",
      "  \"Adding an axes using the same arguments as a previous axes \"\n"
     ]
    },
    {
     "name": "stdout",
     "output_type": "stream",
     "text": [
      "2017 OK\n"
     ]
    },
    {
     "data": {
      "image/png": "[encoded data removed]",
      "text/plain": [
       "<Figure size 720x1008 with 13 Axes>"
      ]
     },
     "metadata": {},
     "output_type": "display_data"
    }
   ],
   "source": [
    "if not os.path.exists(NOSYNC):\n",
    "    os.makedirs(NOSYNC)\n",
    "def savefigure(fname):\n",
    "    plt.savefig(os.path.join(fig_dir, \n",
    "                             fig_name[0:4]+ekey+'_'+str(lon_line+360)+'E_'+fname+'.png'),dpi=150, \n",
    "                bbox_inches=\"tight\")  \n",
    "    # comment out to disable saving\n",
    "    #plt.savefig(os.path.join(figdir, fname+'.pdf'),dpi=300, bbox_inches=\"tight\")  # comment out to disable saving\n",
    "    return    \n",
    "\n",
    "# General plotting stuff\n",
    "plot_labels=['(a) ','(b) ','(c) ','(d)']\n",
    "land_50m= cft.NaturalEarthFeature('physical', 'land', '110m',\n",
    "                                    edgecolor='black',\n",
    "                                    facecolor='',\n",
    "                                    linewidth=1)\n",
    "fig = plt.figure() \n",
    "fig.set_size_inches(10,14)\n",
    "matplotlib.rcParams.update({'font.size': 10}) \n",
    "col = 1\n",
    "row = 5\n",
    "\n",
    "latN_lim = -40\n",
    "\n",
    "for y_num in years:\n",
    "    y = str(y_num)\n",
    "\n",
    "    fig.suptitle(r'$\\bf{147^{\\circ}E}$ line (south of Tassie) ACCESS-OM2-025 $\\bf{' + y + '}$ $-$ long-term mean', \n",
    "                 x=0.54, y=0.93)\n",
    "\n",
    "    ax = plt.subplot2grid((row, col), (0, 0), rowspan=1, colspan=1)    \n",
    "    # Twin the x-axis twice to make independent y-axes.\n",
    "    axes = [ax, ax.twinx(), ax.twinx(), ax.twinx(), ax.twinx()]\n",
    "\n",
    "    # Make some space on the right side for the extra y-axis.\n",
    "    fig.subplots_adjust(right=0.7)\n",
    "\n",
    "    # And finally we get to plot things...\n",
    "    ax_num = 0\n",
    "    color = 'Blue'\n",
    "    ax_now = axes[ax_num]\n",
    "#     ylim = 0.00002\n",
    "    ylim = 100\n",
    "    ax_now.plot([latS,latN_lim],[0,0],linewidth=0.5,color='Gray')\n",
    "    ax_now.plot(mld_anom.yt_ocean, mld_anom.sel(year=y_num), color=color)\n",
    "#     ax_now.set_ylabel('Rain fall rate ($Kg\\ m^{-2}\\ s^{-1}$)', color=color)\n",
    "    ax_now.set_ylabel('Mixed layer depth ($m$)', color=color)\n",
    "    ax_now.tick_params(axis='y', colors=color)\n",
    "    plt.gca().set_xlim([t_10_anom.latitude[0], t_10_anom.latitude[-1]])\n",
    "    ax_now.set_ylim([-ylim, ylim])\n",
    "    \n",
    "    ax_num = 1\n",
    "    color = 'Red'\n",
    "    ax_now = axes[ax_num]\n",
    "    ylim = 1.5\n",
    "    ax_now.plot(t_10_anom.latitude, t_10_anom.sel(year=y_num), color=color)\n",
    "    ax_now.set_ylabel('Surface air temperature ($^{\\circ}C$)', color=color)\n",
    "    ax_now.tick_params(axis='y', colors=color)\n",
    "    plt.gca().set_xlim([t_10_anom.latitude[0], t_10_anom.latitude[-1]])\n",
    "    ax_now.set_ylim([-ylim, ylim])\n",
    "    \n",
    "    ax_num = 2\n",
    "    color = 'Green'\n",
    "    axes[ax_num].spines['right'].set_position(('axes', 1.15))\n",
    "    ax_now = axes[ax_num]\n",
    "    ylim = 500\n",
    "    ax_now.plot(t_10_anom.latitude, slp_anom.sel(year=y_num), color=color)\n",
    "    ax_now.set_ylabel('Sea level pressure ($Pa$)', color=color)\n",
    "    ax_now.tick_params(axis='y', colors=color)\n",
    "    plt.gca().set_xlim([t_10_anom.latitude[0], t_10_anom.latitude[-1]])\n",
    "    ax_now.set_ylim([-ylim, ylim])\n",
    "    \n",
    "    ax_num = 3\n",
    "    color = 'Orange'\n",
    "    axes[ax_num].spines['right'].set_position(('axes', 1.3))\n",
    "    ax_now = axes[ax_num]\n",
    "    ylim = 2\n",
    "    ax_now.plot(t_10_anom.latitude, u_10_anom.sel(year=y_num), color=color)\n",
    "    ax_now.set_ylabel('10 $m$ zonal winds ($m\\ s^{-1}$)', color=color)\n",
    "    ax_now.tick_params(axis='y', colors=color)\n",
    "    plt.gca().set_xlim([t_10_anom.latitude[0], t_10_anom.latitude[-1]])\n",
    "    ax_now.set_ylim([-ylim, ylim])\n",
    "    \n",
    "    ax_num = 4\n",
    "    color = 'Purple'\n",
    "    axes[ax_num].spines['right'].set_position(('axes', 1.45))\n",
    "    axes[ax_num].set_frame_on(True)\n",
    "    axes[ax_num].patch.set_visible(False)\n",
    "    ax_now = axes[ax_num]\n",
    "    ylim = 0.15\n",
    "    ax_now.plot(eta_t_anom.yt_ocean, eta_t_anom.sel(year=y_num), color=color)\n",
    "    ax_now.set_ylabel('Sea surface height ($m$)', color=color)\n",
    "    ax_now.tick_params(axis='y', colors=color)\n",
    "    plt.gca().set_xlim([t_10_anom.latitude[0], t_10_anom.latitude[-1]])\n",
    "    ax_now.set_ylim([-ylim, ylim])\n",
    "    \n",
    "    axes[0].xaxis.grid(linewidth=0.5, linestyle='-')\n",
    "    axes[0].set_xlim([latS, latN_lim])\n",
    "    ax_now.set_xticklabels('')\n",
    "    ax_now.set_xlabel('')\n",
    "    ax_now.set_title('Forcing')\n",
    "\n",
    "\n",
    "    ax = plt.subplot2grid((row, col), (1, 0), rowspan=1, colspan=1)\n",
    "    cmap = plt.get_cmap('RdBu_r')\n",
    "    levels = arange(-1,1,0.2)\n",
    "    p = temp_anom.sel(\n",
    "        year=y_num).plot(add_colorbar=False, cmap=cmap, levels=levels, extend='both')\n",
    "    plt.title('Ocean temperature ($^{\\circ}C$)')\n",
    "    ax.grid(linewidth=0.5, linestyle='-')\n",
    "    ax.set_xticks(arange(latS,latN,5))\n",
    "    ax.set_xticklabels('')\n",
    "    ax.set_xlabel('')\n",
    "    ax.set_xlim([latS, latN_lim])\n",
    "    ax.set_ylim([0, 5000])\n",
    "    ax.set_facecolor('gray')\n",
    "    ax.invert_yaxis()\n",
    "    \n",
    "    ax_pos = array(ax.get_position())\n",
    "    ax3 = plt.axes([ax_pos[1][0]+0.02, ax_pos[0][1], 0.01, ax_pos[1][1]-ax_pos[0][1]])\n",
    "    cbar = plt.colorbar(p, cax=ax3, orientation='vertical', drawedges=True)\n",
    "\n",
    "    ax = plt.subplot2grid((row, col), (2, 0), rowspan=1, colspan=1)\n",
    "    cmap = plt.get_cmap('RdBu_r')\n",
    "    levels = arange(-0.2,0.2,0.04)\n",
    "    p = salt_anom.sel(\n",
    "        year=y_num).plot(add_colorbar=False, cmap=cmap, levels=levels, extend='both')\n",
    "    plt.title('Salinity ($psu$)')\n",
    "    ax.grid(linewidth=0.5, linestyle='-')\n",
    "    ax.set_xticks(arange(latS,latN,5))\n",
    "    ax.set_xticklabels('')\n",
    "    ax.set_xlabel('')\n",
    "    ax.set_xlim([latS, latN_lim])\n",
    "    ax.set_ylim([0, 5000])\n",
    "    ax.set_facecolor('gray')\n",
    "    ax.invert_yaxis()\n",
    "    \n",
    "    ax_pos = array(ax.get_position())\n",
    "    ax3 = plt.axes([ax_pos[1][0]+0.02, ax_pos[0][1], 0.01, ax_pos[1][1]-ax_pos[0][1]])\n",
    "    cbar = plt.colorbar(p, cax=ax3, orientation='vertical', drawedges=True)\n",
    "    \n",
    "    ax = plt.subplot2grid((row, col), (3, 0), rowspan=1, colspan=1)\n",
    "    cmap = plt.get_cmap('RdBu_r')\n",
    "    levels = arange(-0.1,0.1,0.02)\n",
    "    p = u_anom.sel(\n",
    "        year=y_num).plot(add_colorbar=False, cmap=cmap, levels=levels, extend='both')\n",
    "    plt.title('Zonal velocity current ($m\\ s^{-1}$)')\n",
    "    ax.grid(linewidth=0.5, linestyle='-')\n",
    "    ax.set_xticks(arange(latS,latN,5))\n",
    "    ax.set_xticklabels('')\n",
    "    ax.set_xlabel('')\n",
    "    ax.set_xlim([latS, latN_lim])\n",
    "    ax.set_ylim([0, 5000])\n",
    "    ax.set_facecolor('gray')\n",
    "    ax.invert_yaxis()\n",
    "    \n",
    "    ax_pos = array(ax.get_position())\n",
    "    ax3 = plt.axes([ax_pos[1][0]+0.02, ax_pos[0][1], 0.01, ax_pos[1][1]-ax_pos[0][1]])\n",
    "    cbar = plt.colorbar(p, cax=ax3, orientation='vertical', drawedges=True)\n",
    "    \n",
    "    ax = plt.subplot2grid((row, col), (4, 0), rowspan=1, colspan=1)\n",
    "    cmap = plt.get_cmap('RdBu_r')\n",
    "    levels = arange(-0.1,0.1,0.02)\n",
    "    p = v_anom.sel(\n",
    "        year=y_num).plot(add_colorbar=False, cmap=cmap, levels=levels, extend='both')\n",
    "    plt.title('Meridional velocity current ($m\\ s^{-1}$)')\n",
    "    ax.grid(linewidth=0.5, linestyle='-')\n",
    "    ax.set_xticks(arange(latS,latN,5))\n",
    "#     ax.set_xticklabels('')\n",
    "#     ax.set_xlabel('')\n",
    "    ax.set_xlim([latS, latN_lim])\n",
    "    ax.set_ylim([0, 5000])\n",
    "    ax.set_facecolor('gray')\n",
    "    ax.invert_yaxis()\n",
    "    \n",
    "    ax_pos = array(ax.get_position())\n",
    "    ax3 = plt.axes([ax_pos[1][0]+0.02, ax_pos[0][1], 0.01, ax_pos[1][1]-ax_pos[0][1]])\n",
    "    cbar = plt.colorbar(p, cax=ax3, orientation='vertical', drawedges=True)\n",
    "    \n",
    "#     ax = plt.subplot2grid((row, col), (5, 0), rowspan=1, colspan=1)\n",
    "#     cmap = plt.get_cmap('RdBu_r')\n",
    "#     levels = arange(-0.0001,0.0001,0.00002)\n",
    "#     p = wt_anom.sel(\n",
    "#         year=y_num).plot(add_colorbar=False, cmap=cmap, levels=levels, extend='both')\n",
    "#     plt.title('Vertical velocity current ($m\\ s^{-1}$)')\n",
    "#     ax.grid(linewidth=0.5, linestyle='-')\n",
    "#     ax.set_xticks(arange(latS,latN,5))\n",
    "# #     ax.set_xticklabels('')\n",
    "# #     ax.set_xlabel('')\n",
    "#     ax.set_xlim([latS, latN_lim])\n",
    "#     ax.set_ylim([0, 5000])\n",
    "#     ax.set_facecolor('gray')\n",
    "#     ax.invert_yaxis()\n",
    "    \n",
    "#     ax_pos = array(ax.get_position())\n",
    "#     ax3 = plt.axes([ax_pos[1][0]+0.02, ax_pos[0][1], 0.01, ax_pos[1][1]-ax_pos[0][1]])\n",
    "#     cbar = plt.colorbar(p, cax=ax3, orientation='vertical', drawedges=True)\n",
    "\n",
    "    savefigure(y)\n",
    "    \n",
    "    print(y + ' OK')"
   ]
  },
  {
   "cell_type": "code",
   "execution_count": 108,
   "metadata": {},
   "outputs": [
    {
     "data": {
      "image/png": "[encoded data removed]",
      "text/plain": [
       "<Figure size 720x1008 with 13 Axes>"
      ]
     },
     "metadata": {},
     "output_type": "display_data"
    }
   ],
   "source": [
    "if not os.path.exists(NOSYNC):\n",
    "    os.makedirs(NOSYNC)\n",
    "def savefigure(fname):\n",
    "    plt.savefig(os.path.join(\n",
    "        fig_dir, fig_name[0:4]+ekey+'_'+str(lon_line+360)+'_linear_trends.png'),\n",
    "                dpi=300, bbox_inches=\"tight\")  \n",
    "    # comment out to disable saving\n",
    "    #plt.savefig(os.path.join(figdir, fname+'.pdf'),dpi=300, bbox_inches=\"tight\")  # comment out to disable saving\n",
    "    return    \n",
    "\n",
    "# General plotting stuff\n",
    "plot_labels=['(a) ','(b) ','(c) ','(d)']\n",
    "land_50m= cft.NaturalEarthFeature('physical', 'land', '110m',\n",
    "                                    edgecolor='black',\n",
    "                                    facecolor='',\n",
    "                                    linewidth=1)\n",
    "fig = plt.figure() \n",
    "fig.set_size_inches(10,14)\n",
    "matplotlib.rcParams.update({'font.size': 10}) \n",
    "col = 1\n",
    "row = 5\n",
    "\n",
    "fig.suptitle(r'$\\bf{147^{\\circ}E}$ line (south of Tassie) ACCESS-OM2-025 $\\bf{linear\\ trends}$', \n",
    "             x=0.54, y=0.93)\n",
    "\n",
    "ax = plt.subplot2grid((row, col), (0, 0), rowspan=1, colspan=1)    \n",
    "# Twin the x-axis twice to make independent y-axes.\n",
    "axes = [ax, ax.twinx(), ax.twinx(), ax.twinx(), ax.twinx()]\n",
    "\n",
    "# Make some space on the right side for the extra y-axis.\n",
    "fig.subplots_adjust(right=0.7)\n",
    "\n",
    "# And finally we get to plot things...\n",
    "ax_num = 0\n",
    "color = 'Blue'\n",
    "ax_now = axes[ax_num]\n",
    "#     ylim = 0.00002\n",
    "ylim = 100\n",
    "mld_plot = mld_slopes*25\n",
    "ax_now.plot([latS,latN_lim],[0,0],linewidth=0.5,color='Gray')\n",
    "ax_now.plot(mld_plot.x, mld_plot, color=color)\n",
    "#     ax_now.set_ylabel('Rain fall rate ($Kg\\ m^{-2}\\ s^{-1}$)', color=color)\n",
    "ax_now.set_ylabel('Mixed layer depth ($m\\ \\cdot\\ 25yrs^{-1}$)', color=color)\n",
    "ax_now.tick_params(axis='y', colors=color)\n",
    "plt.gca().set_xlim([t_10_anom.latitude[0], t_10_anom.latitude[-1]])\n",
    "ax_now.set_ylim([-ylim, ylim])\n",
    "\n",
    "ax_num = 1\n",
    "color = 'Red'\n",
    "ax_now = axes[ax_num]\n",
    "ylim = 1.5\n",
    "t_10_plot = t_10_slopes*25\n",
    "ax_now.plot(t_10_plot.x, t_10_plot, color=color)\n",
    "ax_now.set_ylabel('Surface air temperature ($^{\\circ}C\\ \\cdot\\ 25yrs^{-1}$)', color=color)\n",
    "ax_now.tick_params(axis='y', colors=color)\n",
    "plt.gca().set_xlim([t_10_anom.latitude[0], t_10_anom.latitude[-1]])\n",
    "ax_now.set_ylim([-ylim, ylim])\n",
    "\n",
    "ax_num = 2\n",
    "color = 'Green'\n",
    "axes[ax_num].spines['right'].set_position(('axes', 1.15))\n",
    "ax_now = axes[ax_num]\n",
    "ylim = 500\n",
    "slp_plot = slp_slopes*25\n",
    "ax_now.plot(t_10_plot.x, slp_plot, color=color)\n",
    "ax_now.set_ylabel('Sea level pressure ($Pa\\ \\cdot\\ 25yrs^{-1}$)', color=color)\n",
    "ax_now.tick_params(axis='y', colors=color)\n",
    "plt.gca().set_xlim([t_10_anom.latitude[0], t_10_anom.latitude[-1]])\n",
    "ax_now.set_ylim([-ylim, ylim])\n",
    "\n",
    "ax_num = 3\n",
    "color = 'Orange'\n",
    "axes[ax_num].spines['right'].set_position(('axes', 1.3))\n",
    "ax_now = axes[ax_num]\n",
    "ylim = 2\n",
    "u_10_plot = u_10_slopes*25\n",
    "ax_now.plot(t_10_plot.x, u_10_plot, color=color)\n",
    "ax_now.set_ylabel('10 $m$ zonal winds ($m\\ s^{-1}\\ \\cdot\\ 25yrs^{-1}$)', color=color)\n",
    "ax_now.tick_params(axis='y', colors=color)\n",
    "plt.gca().set_xlim([t_10_anom.latitude[0], t_10_anom.latitude[-1]])\n",
    "ax_now.set_ylim([-ylim, ylim])\n",
    "\n",
    "ax_num = 4\n",
    "color = 'Purple'\n",
    "axes[ax_num].spines['right'].set_position(('axes', 1.45))\n",
    "axes[ax_num].set_frame_on(True)\n",
    "axes[ax_num].patch.set_visible(False)\n",
    "ax_now = axes[ax_num]\n",
    "ylim = 0.15\n",
    "eta_t_plot = eta_t_slopes*25\n",
    "ax_now.plot(eta_t_plot.x, eta_t_plot, color=color)\n",
    "ax_now.set_ylabel('Sea surface height ($m\\ \\cdot\\ 25yrs^{-1}$)', color=color)\n",
    "ax_now.tick_params(axis='y', colors=color)\n",
    "plt.gca().set_xlim([t_10_anom.latitude[0], t_10_anom.latitude[-1]])\n",
    "ax_now.set_ylim([-ylim, ylim])\n",
    "\n",
    "axes[0].xaxis.grid(linewidth=0.5, linestyle='-')\n",
    "axes[0].set_xlim([latS, latN_lim])\n",
    "ax_now.set_xticklabels('')\n",
    "ax_now.set_xlabel('')\n",
    "ax_now.set_title('Forcing')\n",
    "\n",
    "\n",
    "ax = plt.subplot2grid((row, col), (1, 0), rowspan=1, colspan=1)\n",
    "cmap = plt.get_cmap('RdBu_r')\n",
    "levels = arange(-1,1,0.2)\n",
    "temp_plot = temp_slopes*25\n",
    "p = temp_plot.plot(add_colorbar=False, cmap=cmap, levels=levels, extend='both')\n",
    "plt.title('Ocean temperature ($^{\\circ}C\\ \\cdot\\ 25yrs^{-1}$)')\n",
    "ax.grid(linewidth=0.5, linestyle='-')\n",
    "ax.set_xticks(arange(latS,latN,5))\n",
    "ax.set_xticklabels('')\n",
    "ax.set_xlabel('')\n",
    "ax.set_xlim([latS, latN_lim])\n",
    "ax.set_ylim([0, 5000])\n",
    "ax.set_facecolor('gray')\n",
    "ax.invert_yaxis()\n",
    "\n",
    "ax_pos = array(ax.get_position())\n",
    "ax3 = plt.axes([ax_pos[1][0]+0.02, ax_pos[0][1], 0.01, ax_pos[1][1]-ax_pos[0][1]])\n",
    "cbar = plt.colorbar(p, cax=ax3, orientation='vertical', drawedges=True)\n",
    "\n",
    "ax = plt.subplot2grid((row, col), (2, 0), rowspan=1, colspan=1)\n",
    "cmap = plt.get_cmap('RdBu_r')\n",
    "levels = arange(-0.2,0.2,0.04)\n",
    "salt_plot = salt_slopes*25\n",
    "p = salt_plot.plot(add_colorbar=False, cmap=cmap, levels=levels, extend='both')\n",
    "plt.title('Salinity ($psu\\ \\cdot\\ 25yrs^{-1}$)')\n",
    "ax.grid(linewidth=0.5, linestyle='-')\n",
    "ax.set_xticks(arange(latS,latN,5))\n",
    "ax.set_xticklabels('')\n",
    "ax.set_xlabel('')\n",
    "ax.set_xlim([latS, latN_lim])\n",
    "ax.set_ylim([0, 5000])\n",
    "ax.set_facecolor('gray')\n",
    "ax.invert_yaxis()\n",
    "\n",
    "ax_pos = array(ax.get_position())\n",
    "ax3 = plt.axes([ax_pos[1][0]+0.02, ax_pos[0][1], 0.01, ax_pos[1][1]-ax_pos[0][1]])\n",
    "cbar = plt.colorbar(p, cax=ax3, orientation='vertical', drawedges=True)\n",
    "\n",
    "ax = plt.subplot2grid((row, col), (3, 0), rowspan=1, colspan=1)\n",
    "cmap = plt.get_cmap('RdBu_r')\n",
    "levels = arange(-0.1,0.1,0.02)\n",
    "u_plot = u_slopes*25\n",
    "p = u_plot.plot(add_colorbar=False, cmap=cmap, levels=levels, extend='both')\n",
    "plt.title('Zonal velocity current ($m\\ s^{-1}\\ \\cdot\\ 25yrs^{-1}$)')\n",
    "ax.grid(linewidth=0.5, linestyle='-')\n",
    "ax.set_xticks(arange(latS,latN,5))\n",
    "ax.set_xticklabels('')\n",
    "ax.set_xlabel('')\n",
    "ax.set_xlim([latS, latN_lim])\n",
    "ax.set_ylim([0, 5000])\n",
    "ax.set_facecolor('gray')\n",
    "ax.invert_yaxis()\n",
    "\n",
    "ax_pos = array(ax.get_position())\n",
    "ax3 = plt.axes([ax_pos[1][0]+0.02, ax_pos[0][1], 0.01, ax_pos[1][1]-ax_pos[0][1]])\n",
    "cbar = plt.colorbar(p, cax=ax3, orientation='vertical', drawedges=True)\n",
    "\n",
    "ax = plt.subplot2grid((row, col), (4, 0), rowspan=1, colspan=1)\n",
    "cmap = plt.get_cmap('RdBu_r')\n",
    "levels = arange(-0.1,0.1,0.02)\n",
    "v_plot = v_slopes*25\n",
    "p = v_plot.plot(add_colorbar=False, cmap=cmap, levels=levels, extend='both')\n",
    "plt.title('Meridional velocity current ($m\\ s^{-1}\\ \\cdot\\ 25yrs^{-1}$)')\n",
    "ax.grid(linewidth=0.5, linestyle='-')\n",
    "ax.set_xticks(arange(latS,latN,5))\n",
    "# ax.set_xticklabels('')\n",
    "# ax.set_xlabel('')\n",
    "ax.set_xlim([latS, latN_lim])\n",
    "ax.set_ylim([0, 5000])\n",
    "ax.set_facecolor('gray')\n",
    "ax.invert_yaxis()\n",
    "\n",
    "ax_pos = array(ax.get_position())\n",
    "ax3 = plt.axes([ax_pos[1][0]+0.02, ax_pos[0][1], 0.01, ax_pos[1][1]-ax_pos[0][1]])\n",
    "cbar = plt.colorbar(p, cax=ax3, orientation='vertical', drawedges=True)\n",
    "\n",
    "savefigure(y)"
   ]
  }
 ],
 "metadata": {
  "kernelspec": {
   "display_name": "Python [conda env:analysis3-18.10]",
   "language": "python",
   "name": "conda-env-analysis3-18.10-py"
  },
  "language_info": {
   "codemirror_mode": {
    "name": "ipython",
    "version": 3
   },
   "file_extension": ".py",
   "mimetype": "text/x-python",
   "name": "python",
   "nbconvert_exporter": "python",
   "pygments_lexer": "ipython3",
   "version": "3.6.7"
  }
 },
 "nbformat": 4,
 "nbformat_minor": 2
}
